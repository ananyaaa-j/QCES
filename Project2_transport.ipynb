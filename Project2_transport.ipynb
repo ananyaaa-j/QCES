{
  "cells": [
    {
      "cell_type": "markdown",
      "metadata": {
        "id": "view-in-github",
        "colab_type": "text"
      },
      "source": [
        "<a href=\"https://colab.research.google.com/github/ananyaaa-j/QCES/blob/main/Project2_transport.ipynb\" target=\"_parent\"><img src=\"https://colab.research.google.com/assets/colab-badge.svg\" alt=\"Open In Colab\"/></a>"
      ]
    },
    {
      "cell_type": "markdown",
      "metadata": {
        "id": "fIpPFBJ30zxp"
      },
      "source": [
        "<a href=\"https://colab.research.google.com/github/johnryantaylor/QCES/blob/main/Project2_transport.ipynb\" target=\"_parent\"><img src=\"https://colab.research.google.com/assets/colab-badge.svg\" alt=\"Open In Colab\"/></a>"
      ]
    },
    {
      "cell_type": "markdown",
      "metadata": {
        "id": "rnpBgk0G0zxw"
      },
      "source": [
        "# Project 2: Tracer transport\n",
        "\n",
        "A critical aspect of understanding climate and environmental systems is describing the movement of substances. This could include pollution or water vapor in the atmosphere, salt in an estuary, or chemicals in a river. We often model the transport of these substances using an advection/diffusion equation for the concentration of the substance. In this context, we sometimes refer to the concentration field as a `tracer' since it helps us track the movement of individual molecules. We can also use this framework to describe the transport of heat, although in this case the tracer field (temperature or heat content) tracks the movement of thermal energy.\n",
        "\n",
        "In this project we will use Dedalus to solve advection diffusion equations to describe the vertical distribution of heat in the ocean and the concentration of pollution in a river.\n",
        "\n",
        "Student tasks are in [Section 1.4](#section1pt4), [Section 1.6](#section1pt6), and [Section 2.3](#section2pt3)"
      ]
    },
    {
      "cell_type": "markdown",
      "metadata": {
        "id": "fNi8EDeJ0zxy"
      },
      "source": [
        "## Setup\n",
        "If you are using Google colab, run the script below to install Dedalus"
      ]
    },
    {
      "cell_type": "code",
      "execution_count": 1,
      "metadata": {
        "id": "k-5niY8h0zx1",
        "outputId": "b934c3e3-bf4a-4f1a-cd66-c5c2dec70cad",
        "colab": {
          "base_uri": "https://localhost:8080/"
        }
      },
      "outputs": [
        {
          "output_type": "stream",
          "name": "stdout",
          "text": [
            "env: OMP_NUM_THREADS=1\n",
            "env: NUMEXPR_MAX_THREADS=1\n",
            "Dedalus not installed yet.\n",
            "Installing for Google Colab.\n",
            "\n",
            "Reading package lists... Done\n",
            "Building dependency tree... Done\n",
            "Reading state information... Done\n",
            "The following additional packages will be installed:\n",
            "  libfftw3-bin libfftw3-double3 libfftw3-long3 libfftw3-quad3 libfftw3-single3\n",
            "Suggested packages:\n",
            "  libfftw3-doc\n",
            "The following NEW packages will be installed:\n",
            "  libfftw3-bin libfftw3-dev libfftw3-double3 libfftw3-long3 libfftw3-quad3 libfftw3-single3\n",
            "0 upgraded, 6 newly installed, 0 to remove and 49 not upgraded.\n",
            "Need to get 4,654 kB of archives.\n",
            "After this operation, 24.7 MB of additional disk space will be used.\n",
            "Get:1 http://archive.ubuntu.com/ubuntu jammy/main amd64 libfftw3-double3 amd64 3.3.8-2ubuntu8 [770 kB]\n",
            "Get:2 http://archive.ubuntu.com/ubuntu jammy/main amd64 libfftw3-long3 amd64 3.3.8-2ubuntu8 [335 kB]\n",
            "Get:3 http://archive.ubuntu.com/ubuntu jammy/main amd64 libfftw3-quad3 amd64 3.3.8-2ubuntu8 [614 kB]\n",
            "Get:4 http://archive.ubuntu.com/ubuntu jammy/main amd64 libfftw3-single3 amd64 3.3.8-2ubuntu8 [800 kB]\n",
            "Get:5 http://archive.ubuntu.com/ubuntu jammy/main amd64 libfftw3-bin amd64 3.3.8-2ubuntu8 [35.5 kB]\n",
            "Get:6 http://archive.ubuntu.com/ubuntu jammy/main amd64 libfftw3-dev amd64 3.3.8-2ubuntu8 [2,101 kB]\n",
            "Fetched 4,654 kB in 0s (10.4 MB/s)\n",
            "Selecting previously unselected package libfftw3-double3:amd64.\n",
            "(Reading database ... 123623 files and directories currently installed.)\n",
            "Preparing to unpack .../0-libfftw3-double3_3.3.8-2ubuntu8_amd64.deb ...\n",
            "Unpacking libfftw3-double3:amd64 (3.3.8-2ubuntu8) ...\n",
            "Selecting previously unselected package libfftw3-long3:amd64.\n",
            "Preparing to unpack .../1-libfftw3-long3_3.3.8-2ubuntu8_amd64.deb ...\n",
            "Unpacking libfftw3-long3:amd64 (3.3.8-2ubuntu8) ...\n",
            "Selecting previously unselected package libfftw3-quad3:amd64.\n",
            "Preparing to unpack .../2-libfftw3-quad3_3.3.8-2ubuntu8_amd64.deb ...\n",
            "Unpacking libfftw3-quad3:amd64 (3.3.8-2ubuntu8) ...\n",
            "Selecting previously unselected package libfftw3-single3:amd64.\n",
            "Preparing to unpack .../3-libfftw3-single3_3.3.8-2ubuntu8_amd64.deb ...\n",
            "Unpacking libfftw3-single3:amd64 (3.3.8-2ubuntu8) ...\n",
            "Selecting previously unselected package libfftw3-bin.\n",
            "Preparing to unpack .../4-libfftw3-bin_3.3.8-2ubuntu8_amd64.deb ...\n",
            "Unpacking libfftw3-bin (3.3.8-2ubuntu8) ...\n",
            "Selecting previously unselected package libfftw3-dev:amd64.\n",
            "Preparing to unpack .../5-libfftw3-dev_3.3.8-2ubuntu8_amd64.deb ...\n",
            "Unpacking libfftw3-dev:amd64 (3.3.8-2ubuntu8) ...\n",
            "Setting up libfftw3-single3:amd64 (3.3.8-2ubuntu8) ...\n",
            "Setting up libfftw3-long3:amd64 (3.3.8-2ubuntu8) ...\n",
            "Setting up libfftw3-quad3:amd64 (3.3.8-2ubuntu8) ...\n",
            "Setting up libfftw3-double3:amd64 (3.3.8-2ubuntu8) ...\n",
            "Setting up libfftw3-bin (3.3.8-2ubuntu8) ...\n",
            "Setting up libfftw3-dev:amd64 (3.3.8-2ubuntu8) ...\n",
            "Processing triggers for man-db (2.10.2-1) ...\n",
            "Processing triggers for libc-bin (2.35-0ubuntu3.4) ...\n",
            "/sbin/ldconfig.real: /usr/local/lib/libtbbbind_2_0.so.3 is not a symbolic link\n",
            "\n",
            "/sbin/ldconfig.real: /usr/local/lib/libtcm_debug.so.1 is not a symbolic link\n",
            "\n",
            "/sbin/ldconfig.real: /usr/local/lib/libtbbbind.so.3 is not a symbolic link\n",
            "\n",
            "/sbin/ldconfig.real: /usr/local/lib/libtbb.so.12 is not a symbolic link\n",
            "\n",
            "/sbin/ldconfig.real: /usr/local/lib/libtbbbind_2_5.so.3 is not a symbolic link\n",
            "\n",
            "/sbin/ldconfig.real: /usr/local/lib/libtcm.so.1 is not a symbolic link\n",
            "\n",
            "/sbin/ldconfig.real: /usr/local/lib/libur_loader.so.0 is not a symbolic link\n",
            "\n",
            "/sbin/ldconfig.real: /usr/local/lib/libhwloc.so.15 is not a symbolic link\n",
            "\n",
            "/sbin/ldconfig.real: /usr/local/lib/libur_adapter_opencl.so.0 is not a symbolic link\n",
            "\n",
            "/sbin/ldconfig.real: /usr/local/lib/libtbbmalloc.so.2 is not a symbolic link\n",
            "\n",
            "/sbin/ldconfig.real: /usr/local/lib/libur_adapter_level_zero.so.0 is not a symbolic link\n",
            "\n",
            "/sbin/ldconfig.real: /usr/local/lib/libumf.so.0 is not a symbolic link\n",
            "\n",
            "/sbin/ldconfig.real: /usr/local/lib/libtbbmalloc_proxy.so.2 is not a symbolic link\n",
            "\n",
            "Reading package lists... Done\n",
            "Building dependency tree... Done\n",
            "Reading state information... Done\n",
            "The following additional packages will be installed:\n",
            "  libfftw3-mpi3\n",
            "Suggested packages:\n",
            "  libfftw3-doc\n",
            "The following NEW packages will be installed:\n",
            "  libfftw3-mpi-dev libfftw3-mpi3\n",
            "0 upgraded, 2 newly installed, 0 to remove and 49 not upgraded.\n",
            "Need to get 102 kB of archives.\n",
            "After this operation, 1,052 kB of additional disk space will be used.\n",
            "Get:1 http://archive.ubuntu.com/ubuntu jammy/universe amd64 libfftw3-mpi3 amd64 3.3.8-2ubuntu8 [48.9 kB]\n",
            "Get:2 http://archive.ubuntu.com/ubuntu jammy/universe amd64 libfftw3-mpi-dev amd64 3.3.8-2ubuntu8 [53.3 kB]\n",
            "Fetched 102 kB in 0s (609 kB/s)\n",
            "Selecting previously unselected package libfftw3-mpi3:amd64.\n",
            "(Reading database ... 123726 files and directories currently installed.)\n",
            "Preparing to unpack .../libfftw3-mpi3_3.3.8-2ubuntu8_amd64.deb ...\n",
            "Unpacking libfftw3-mpi3:amd64 (3.3.8-2ubuntu8) ...\n",
            "Selecting previously unselected package libfftw3-mpi-dev:amd64.\n",
            "Preparing to unpack .../libfftw3-mpi-dev_3.3.8-2ubuntu8_amd64.deb ...\n",
            "Unpacking libfftw3-mpi-dev:amd64 (3.3.8-2ubuntu8) ...\n",
            "Setting up libfftw3-mpi3:amd64 (3.3.8-2ubuntu8) ...\n",
            "Setting up libfftw3-mpi-dev:amd64 (3.3.8-2ubuntu8) ...\n",
            "Processing triggers for libc-bin (2.35-0ubuntu3.4) ...\n",
            "/sbin/ldconfig.real: /usr/local/lib/libtbbbind_2_0.so.3 is not a symbolic link\n",
            "\n",
            "/sbin/ldconfig.real: /usr/local/lib/libtcm_debug.so.1 is not a symbolic link\n",
            "\n",
            "/sbin/ldconfig.real: /usr/local/lib/libtbbbind.so.3 is not a symbolic link\n",
            "\n",
            "/sbin/ldconfig.real: /usr/local/lib/libtbb.so.12 is not a symbolic link\n",
            "\n",
            "/sbin/ldconfig.real: /usr/local/lib/libtbbbind_2_5.so.3 is not a symbolic link\n",
            "\n",
            "/sbin/ldconfig.real: /usr/local/lib/libtcm.so.1 is not a symbolic link\n",
            "\n",
            "/sbin/ldconfig.real: /usr/local/lib/libur_loader.so.0 is not a symbolic link\n",
            "\n",
            "/sbin/ldconfig.real: /usr/local/lib/libhwloc.so.15 is not a symbolic link\n",
            "\n",
            "/sbin/ldconfig.real: /usr/local/lib/libur_adapter_opencl.so.0 is not a symbolic link\n",
            "\n",
            "/sbin/ldconfig.real: /usr/local/lib/libtbbmalloc.so.2 is not a symbolic link\n",
            "\n",
            "/sbin/ldconfig.real: /usr/local/lib/libur_adapter_level_zero.so.0 is not a symbolic link\n",
            "\n",
            "/sbin/ldconfig.real: /usr/local/lib/libumf.so.0 is not a symbolic link\n",
            "\n",
            "/sbin/ldconfig.real: /usr/local/lib/libtbbmalloc_proxy.so.2 is not a symbolic link\n",
            "\n",
            "Requirement already satisfied: cython in /usr/local/lib/python3.10/dist-packages (3.0.11)\n",
            "Collecting mpi4py<4.0\n",
            "  Downloading mpi4py-3.1.6.tar.gz (2.4 MB)\n",
            "\u001b[2K     \u001b[90m━━━━━━━━━━━━━━━━━━━━━━━━━━━━━━━━━━━━━━━━\u001b[0m \u001b[32m2.4/2.4 MB\u001b[0m \u001b[31m23.8 MB/s\u001b[0m eta \u001b[36m0:00:00\u001b[0m\n",
            "\u001b[?25h  Installing build dependencies ... \u001b[?25l\u001b[?25hdone\n",
            "  Getting requirements to build wheel ... \u001b[?25l\u001b[?25hdone\n",
            "  Preparing metadata (pyproject.toml) ... \u001b[?25l\u001b[?25hdone\n",
            "Requirement already satisfied: numpy in /usr/local/lib/python3.10/dist-packages (1.26.4)\n",
            "Requirement already satisfied: setuptools in /usr/local/lib/python3.10/dist-packages (75.1.0)\n",
            "Requirement already satisfied: wheel in /usr/local/lib/python3.10/dist-packages (0.44.0)\n",
            "Building wheels for collected packages: mpi4py\n",
            "  Building wheel for mpi4py (pyproject.toml) ... \u001b[?25l\u001b[?25hdone\n",
            "  Created wheel for mpi4py: filename=mpi4py-3.1.6-cp310-cp310-linux_x86_64.whl size=2746282 sha256=90517756f8594a0ea1b13282d79f5fac536219d98b8f22e683048cf4eb3a4fe1\n",
            "  Stored in directory: /root/.cache/pip/wheels/4c/ca/89/8fc1fb1c620afca13bb41c630b1f948bbf446e0aaa4b762e10\n",
            "Successfully built mpi4py\n",
            "Installing collected packages: mpi4py\n",
            "Successfully installed mpi4py-3.1.6\n",
            "Collecting http://github.com/dedalusproject/dedalus/zipball/master/\n",
            "  Downloading http://github.com/dedalusproject/dedalus/zipball/master/\n",
            "\u001b[2K     \u001b[32m/\u001b[0m \u001b[32m24.5 MB\u001b[0m \u001b[31m25.7 MB/s\u001b[0m \u001b[33m0:00:00\u001b[0m\n",
            "\u001b[?25h  Preparing metadata (pyproject.toml) ... \u001b[?25l\u001b[?25hdone\n",
            "Collecting docopt (from dedalus==3.0.3)\n",
            "  Downloading docopt-0.6.2.tar.gz (25 kB)\n",
            "  Preparing metadata (setup.py) ... \u001b[?25l\u001b[?25hdone\n",
            "Requirement already satisfied: h5py>=3.0.0 in /usr/local/lib/python3.10/dist-packages (from dedalus==3.0.3) (3.12.1)\n",
            "Requirement already satisfied: matplotlib in /usr/local/lib/python3.10/dist-packages (from dedalus==3.0.3) (3.8.0)\n",
            "Requirement already satisfied: mpi4py>=2.0.0 in /usr/local/lib/python3.10/dist-packages (from dedalus==3.0.3) (3.1.6)\n",
            "Requirement already satisfied: numexpr in /usr/local/lib/python3.10/dist-packages (from dedalus==3.0.3) (2.10.1)\n",
            "Requirement already satisfied: numpy>=1.20.0 in /usr/local/lib/python3.10/dist-packages (from dedalus==3.0.3) (1.26.4)\n",
            "Collecting py (from dedalus==3.0.3)\n",
            "  Downloading py-1.11.0-py2.py3-none-any.whl.metadata (2.8 kB)\n",
            "Requirement already satisfied: pytest in /usr/local/lib/python3.10/dist-packages (from dedalus==3.0.3) (7.4.4)\n",
            "Collecting pytest-benchmark (from dedalus==3.0.3)\n",
            "  Downloading pytest_benchmark-5.1.0-py3-none-any.whl.metadata (25 kB)\n",
            "Collecting pytest-cov (from dedalus==3.0.3)\n",
            "  Downloading pytest_cov-6.0.0-py3-none-any.whl.metadata (27 kB)\n",
            "Collecting pytest-parallel (from dedalus==3.0.3)\n",
            "  Downloading pytest_parallel-0.1.1-py3-none-any.whl.metadata (3.0 kB)\n",
            "Requirement already satisfied: scipy>=1.4.0 in /usr/local/lib/python3.10/dist-packages (from dedalus==3.0.3) (1.13.1)\n",
            "Requirement already satisfied: xarray in /usr/local/lib/python3.10/dist-packages (from dedalus==3.0.3) (2024.10.0)\n",
            "Requirement already satisfied: contourpy>=1.0.1 in /usr/local/lib/python3.10/dist-packages (from matplotlib->dedalus==3.0.3) (1.3.0)\n",
            "Requirement already satisfied: cycler>=0.10 in /usr/local/lib/python3.10/dist-packages (from matplotlib->dedalus==3.0.3) (0.12.1)\n",
            "Requirement already satisfied: fonttools>=4.22.0 in /usr/local/lib/python3.10/dist-packages (from matplotlib->dedalus==3.0.3) (4.54.1)\n",
            "Requirement already satisfied: kiwisolver>=1.0.1 in /usr/local/lib/python3.10/dist-packages (from matplotlib->dedalus==3.0.3) (1.4.7)\n",
            "Requirement already satisfied: packaging>=20.0 in /usr/local/lib/python3.10/dist-packages (from matplotlib->dedalus==3.0.3) (24.1)\n",
            "Requirement already satisfied: pillow>=6.2.0 in /usr/local/lib/python3.10/dist-packages (from matplotlib->dedalus==3.0.3) (10.4.0)\n",
            "Requirement already satisfied: pyparsing>=2.3.1 in /usr/local/lib/python3.10/dist-packages (from matplotlib->dedalus==3.0.3) (3.2.0)\n",
            "Requirement already satisfied: python-dateutil>=2.7 in /usr/local/lib/python3.10/dist-packages (from matplotlib->dedalus==3.0.3) (2.8.2)\n",
            "Requirement already satisfied: iniconfig in /usr/local/lib/python3.10/dist-packages (from pytest->dedalus==3.0.3) (2.0.0)\n",
            "Requirement already satisfied: pluggy<2.0,>=0.12 in /usr/local/lib/python3.10/dist-packages (from pytest->dedalus==3.0.3) (1.5.0)\n",
            "Requirement already satisfied: exceptiongroup>=1.0.0rc8 in /usr/local/lib/python3.10/dist-packages (from pytest->dedalus==3.0.3) (1.2.2)\n",
            "Requirement already satisfied: tomli>=1.0.0 in /usr/local/lib/python3.10/dist-packages (from pytest->dedalus==3.0.3) (2.0.2)\n",
            "Collecting pytest (from dedalus==3.0.3)\n",
            "  Downloading pytest-8.3.3-py3-none-any.whl.metadata (7.5 kB)\n",
            "Requirement already satisfied: py-cpuinfo in /usr/local/lib/python3.10/dist-packages (from pytest-benchmark->dedalus==3.0.3) (9.0.0)\n",
            "Collecting coverage>=7.5 (from coverage[toml]>=7.5->pytest-cov->dedalus==3.0.3)\n",
            "  Downloading coverage-7.6.4-cp310-cp310-manylinux_2_5_x86_64.manylinux1_x86_64.manylinux_2_17_x86_64.manylinux2014_x86_64.whl.metadata (8.2 kB)\n",
            "Collecting tblib (from pytest-parallel->dedalus==3.0.3)\n",
            "  Downloading tblib-3.0.0-py3-none-any.whl.metadata (25 kB)\n",
            "Requirement already satisfied: pandas>=2.1 in /usr/local/lib/python3.10/dist-packages (from xarray->dedalus==3.0.3) (2.2.2)\n",
            "Requirement already satisfied: pytz>=2020.1 in /usr/local/lib/python3.10/dist-packages (from pandas>=2.1->xarray->dedalus==3.0.3) (2024.2)\n",
            "Requirement already satisfied: tzdata>=2022.7 in /usr/local/lib/python3.10/dist-packages (from pandas>=2.1->xarray->dedalus==3.0.3) (2024.2)\n",
            "Requirement already satisfied: six>=1.5 in /usr/local/lib/python3.10/dist-packages (from python-dateutil>=2.7->matplotlib->dedalus==3.0.3) (1.16.0)\n",
            "Downloading py-1.11.0-py2.py3-none-any.whl (98 kB)\n",
            "\u001b[2K   \u001b[90m━━━━━━━━━━━━━━━━━━━━━━━━━━━━━━━━━━━━━━━━\u001b[0m \u001b[32m98.7/98.7 kB\u001b[0m \u001b[31m7.2 MB/s\u001b[0m eta \u001b[36m0:00:00\u001b[0m\n",
            "\u001b[?25hDownloading pytest_benchmark-5.1.0-py3-none-any.whl (44 kB)\n",
            "\u001b[2K   \u001b[90m━━━━━━━━━━━━━━━━━━━━━━━━━━━━━━━━━━━━━━━━\u001b[0m \u001b[32m44.3/44.3 kB\u001b[0m \u001b[31m166.2 MB/s\u001b[0m eta \u001b[36m0:00:00\u001b[0m\n",
            "\u001b[?25hDownloading pytest-8.3.3-py3-none-any.whl (342 kB)\n",
            "\u001b[2K   \u001b[90m━━━━━━━━━━━━━━━━━━━━━━━━━━━━━━━━━━━━━━━━\u001b[0m \u001b[32m342.3/342.3 kB\u001b[0m \u001b[31m27.7 MB/s\u001b[0m eta \u001b[36m0:00:00\u001b[0m\n",
            "\u001b[?25hDownloading pytest_cov-6.0.0-py3-none-any.whl (22 kB)\n",
            "Downloading pytest_parallel-0.1.1-py3-none-any.whl (7.0 kB)\n",
            "Downloading coverage-7.6.4-cp310-cp310-manylinux_2_5_x86_64.manylinux1_x86_64.manylinux_2_17_x86_64.manylinux2014_x86_64.whl (234 kB)\n",
            "\u001b[2K   \u001b[90m━━━━━━━━━━━━━━━━━━━━━━━━━━━━━━━━━━━━━━━━\u001b[0m \u001b[32m234.6/234.6 kB\u001b[0m \u001b[31m182.7 MB/s\u001b[0m eta \u001b[36m0:00:00\u001b[0m\n",
            "\u001b[?25hDownloading tblib-3.0.0-py3-none-any.whl (12 kB)\n",
            "Building wheels for collected packages: dedalus, docopt\n",
            "  Building wheel for dedalus (pyproject.toml) ... \u001b[?25l\u001b[?25hdone\n",
            "  Created wheel for dedalus: filename=dedalus-3.0.3-cp310-cp310-linux_x86_64.whl size=3261318 sha256=7a85a4e71d62a02f566b2c4de1ee40724a5284b2f95f01ebbcdc734d2dd5d12d\n",
            "  Stored in directory: /tmp/pip-ephem-wheel-cache-e3y30xie/wheels/2c/16/80/8c5f40fc4de8dc37ba4cdd4e05d7639677a5f0659c3bbd79a7\n",
            "  Building wheel for docopt (setup.py) ... \u001b[?25l\u001b[?25hdone\n",
            "  Created wheel for docopt: filename=docopt-0.6.2-py2.py3-none-any.whl size=13706 sha256=b8d5e4cff146b7fc158f88e06c795296276b49c85d99102e2eee00eeb14f61bf\n",
            "  Stored in directory: /tmp/pip-ephem-wheel-cache-e3y30xie/wheels/fc/ab/d4/5da2067ac95b36618c629a5f93f809425700506f72c9732fac\n",
            "Successfully built dedalus docopt\n",
            "Installing collected packages: docopt, tblib, pytest, py, coverage, pytest-parallel, pytest-benchmark, pytest-cov, dedalus\n",
            "  Attempting uninstall: pytest\n",
            "    Found existing installation: pytest 7.4.4\n",
            "    Uninstalling pytest-7.4.4:\n",
            "      Successfully uninstalled pytest-7.4.4\n",
            "Successfully installed coverage-7.6.4 dedalus-3.0.3 docopt-0.6.2 py-1.11.0 pytest-8.3.3 pytest-benchmark-5.1.0 pytest-cov-6.0.0 pytest-parallel-0.1.1 tblib-3.0.0\n",
            "\u001b[2K   \u001b[90m━━━━━━━━━━━━━━━━━━━━━━━━━━━━━━━━━━━━━━━━\u001b[0m \u001b[32m516.3/516.3 kB\u001b[0m \u001b[31m8.4 MB/s\u001b[0m eta \u001b[36m0:00:00\u001b[0m\n",
            "\u001b[2K   \u001b[90m━━━━━━━━━━━━━━━━━━━━━━━━━━━━━━━━━━━━━━━━\u001b[0m \u001b[32m1.6/1.6 MB\u001b[0m \u001b[31m38.8 MB/s\u001b[0m eta \u001b[36m0:00:00\u001b[0m\n",
            "\u001b[?25h\n",
            "Dedalus successfully installed :)\n"
          ]
        }
      ],
      "source": [
        "# Set environment variables for best performance\n",
        "%env OMP_NUM_THREADS=1\n",
        "%env NUMEXPR_MAX_THREADS=1\n",
        "\n",
        "# Minimize logging output\n",
        "import logging\n",
        "logging.disable(logging.DEBUG)\n",
        "\n",
        "# Check if running on google colab\n",
        "import os\n",
        "using_google_colab = bool(os.getenv(\"COLAB_RELEASE_TAG\"))\n",
        "\n",
        "# Check for Dedalus\n",
        "try:\n",
        "    import dedalus.public as de\n",
        "    print(\"Dedalus already installed :)\")\n",
        "except:\n",
        "    print(\"Dedalus not installed yet.\")\n",
        "    if using_google_colab:\n",
        "        print(\"Installing for Google Colab.\")\n",
        "        print()\n",
        "        # Step 1: Install FFTW\n",
        "        !apt-get install libfftw3-dev\n",
        "        !apt-get install libfftw3-mpi-dev\n",
        "        # Step 2: Set paths for Dedalus installation\n",
        "        import os\n",
        "        os.environ['MPI_INCLUDE_PATH'] = \"/usr/lib/x86_64-linux-gnu/openmpi/include\"\n",
        "        os.environ['MPI_LIBRARY_PATH'] = \"/usr/lib/x86_64-linux-gnu\"\n",
        "        os.environ['FFTW_INCLUDE_PATH'] = \"/usr/include\"\n",
        "        os.environ['FFTW_LIBRARY_PATH'] = \"/usr/lib/x86_64-linux-gnu\"\n",
        "        # Step 3: Install Dedalus using pip\n",
        "        !pip3 install cython \"mpi4py<4.0\" numpy setuptools wheel\n",
        "        !CC=mpicc pip3 install --no-cache --no-build-isolation http://github.com/dedalusproject/dedalus/zipball/master/\n",
        "        !pip3 install -q ipympl\n",
        "        # Step 4: Check installation\n",
        "        print()\n",
        "        try:\n",
        "            import dedalus.public as de\n",
        "            print(\"Dedalus successfully installed :)\")\n",
        "        except:\n",
        "            print(\"Error installing Dedalus :(\")\n",
        "            raise\n",
        "    else:\n",
        "        print(\"See website for installation instructions:\")\n",
        "        print(\"https://dedalus-project.readthedocs.io/en/latest/pages/installation.html\")\n",
        "\n",
        "# Setup interactive matplotlib\n",
        "if using_google_colab:\n",
        "    from google.colab import output\n",
        "    output.enable_custom_widget_manager()"
      ]
    },
    {
      "cell_type": "markdown",
      "metadata": {
        "id": "mGmYamc10zx5"
      },
      "source": [
        "## 1. Thermal structure in the ocean\n",
        "\n",
        "Most of the ocean has a stable thermal stratification with warm water at the surface and cold water in the abyss (exceptions occur in salt-stratified waters like the Arctic Ocean). Since the ocean is a massive thermal reservoir, understanding the distribution of this heat is important to quantifying the ocean's role in a changing climate. The structure of the temperature field can also inform us about the circulation in the ocean interior.\n"
      ]
    },
    {
      "cell_type": "markdown",
      "metadata": {
        "id": "Z1E4OU610zx6"
      },
      "source": [
        "### 1.1 Measured temperature profile\n",
        "\n",
        "The code below plots a sample temperature profile obtained off the coast of California. The data was obtained by digitizing Figure 3 in Munk, 1966."
      ]
    },
    {
      "cell_type": "code",
      "execution_count": 2,
      "metadata": {
        "id": "AJghlW1F0zx6",
        "outputId": "82aa52c6-37a7-4406-deb0-00dea3f8b747",
        "colab": {
          "base_uri": "https://localhost:8080/",
          "height": 467
        }
      },
      "outputs": [
        {
          "output_type": "execute_result",
          "data": {
            "text/plain": [
              "Text(0, 0.5, 'Depth (m)')"
            ]
          },
          "metadata": {},
          "execution_count": 2
        },
        {
          "output_type": "display_data",
          "data": {
            "text/plain": [
              "<Figure size 640x480 with 1 Axes>"
            ],
            "image/png": "[encoded data removed]"
          },
          "metadata": {}
        }
      ],
      "source": [
        "import matplotlib.pyplot as plt\n",
        "\n",
        "# Temperature measurements extracted from Figure 3 in Munk, 1966\n",
        "CTD_T = [1.1296296296296295, 1.122004357298475, 1.1143790849673203, 1.1067538126361656, 1.1143790849673203, 1.1143790849673203, 1.1372549019607843, 1.122004357298475, 1.1372549019607843, 1.1525054466230937, 1.2287581699346406, 1.2745098039215685, 1.343137254901961, 1.4041394335511983, 1.526143790849673, 1.6405228758169934, 1.8997821350762527, 2.242919389978214, 2.69281045751634, 3.104575163398693, 3.104575163398693, 3.218954248366013, 3.4324618736383443, 3.8289760348583877, 4.042483660130719, 4.438997821350762]\n",
        "CTD_z = [-4976.958525345623, -4869.431643625192, -4677.419354838709, -4470.046082949309, -4270.353302611367, -4070.6605222734256, -3932.411674347158, -3786.4823348694317, -3586.78955453149, -3394.7772657450078, -3195.084485407066, -2995.3917050691243, -2803.379416282642, -2580.6451612903224, -2350.230414746544, -2112.1351766513058, -1843.3179723502303, -1597.5422427035332, -1344.0860215053763, -1144.3932411674346, -1144.3932411674346, -1121.351766513057, -990.7834101382491, -821.8125960061443, -698.9247311827958, -583.7173579109067]\n",
        "\n",
        "plt.scatter(CTD_T,CTD_z,s=10)\n",
        "plt.xlabel('T (ºC)')\n",
        "plt.ylabel('Depth (m)')\n"
      ]
    },
    {
      "cell_type": "markdown",
      "metadata": {
        "id": "TGRWCpU-0zx7"
      },
      "source": [
        "### 1.2 Abyssal recipes\n",
        "\n",
        "Munk (1966) proposed that the thermal structure of the ocean interior is set by a balance between upwelling and diffusion. In this view, cold waters sink near the poles and spread across the seafloor before slowly rising through the ocean interior. If we assume, as Munk did, that the water upwells uniformly across the globe, the upwelling speed is approximately $10^{-7}$ m/s. This is far too small to directly measure, but it is large enough to have a major impact on the distribution of tracers. Since light can only penetrate through the top ~100m of ocean, we can ignore solar heating, except in that it sets the temperature near the ocean surface."
      ]
    },
    {
      "cell_type": "markdown",
      "metadata": {
        "id": "_yFbXZEN0zx8"
      },
      "source": [
        "### 1.3 Steady advection/diffusion equation\n",
        "\n",
        "Dedalus can solve differential equations in various forms. In addition to time-dependent initial value problems (IVPs), Dedalus can solve linear and nonlinear boundary value problems. The code below uses Dedalus to solve a linear boundary value problem (IVBP) for the steady state advection/diffusion equation.\n",
        "\n",
        "Here, the top and bottom temperature are set from the measured profile and these are used as boundary conditions. The vertical (upwelling) velocity is set to $10^{-7} m/s$, and the diffusivity is set to $10^{-7}$ $m^2/s$, to approximate the molecular diffusivity of heat in seawater."
      ]
    },
    {
      "cell_type": "code",
      "execution_count": 11,
      "metadata": {
        "id": "cGxW5v2H0zx9",
        "outputId": "0cf045dc-4c08-4e8d-e4c0-be2ce311d007",
        "colab": {
          "base_uri": "https://localhost:8080/",
          "height": 442
        }
      },
      "outputs": [
        {
          "output_type": "stream",
          "name": "stderr",
          "text": [
            "INFO:subsystems:Building subproblem matrices 1/1 (~100%) Elapsed: 0s, Remaining: 0s, Rate: 1.2e+01/s\n"
          ]
        },
        {
          "output_type": "stream",
          "name": "stdout",
          "text": [
            "2024-11-07 14:43:41,442 subsystems 0/1 INFO :: Building subproblem matrices 1/1 (~100%) Elapsed: 0s, Remaining: 0s, Rate: 1.2e+01/s\n"
          ]
        },
        {
          "output_type": "execute_result",
          "data": {
            "text/plain": [
              "Text(0, 0.5, 'Depth (m)')"
            ]
          },
          "metadata": {},
          "execution_count": 11
        },
        {
          "output_type": "display_data",
          "data": {
            "text/plain": [
              "<Figure size 600x400 with 1 Axes>"
            ],
            "image/png": "[encoded data removed]"
          },
          "metadata": {}
        }
      ],
      "source": [
        "\"\"\"\n",
        "Dedalus script to solve the steady advection/diffusion equation\n",
        "\"\"\"\n",
        "\n",
        "import numpy as np\n",
        "import matplotlib.pyplot as plt\n",
        "import dedalus.public as d3\n",
        "import logging\n",
        "logger = logging.getLogger(__name__)\n",
        "\n",
        "# Set various parameters. Note that the depth and the top and bottom temperature\n",
        "# are taken from the CTD data in the code cell above. That cell must be run first to define CTD_T and CTD_z.\n",
        "z_surface = CTD_z[-1]\n",
        "z_bottom = CTD_z[0]\n",
        "T_surface = CTD_T[-1]\n",
        "T_bottom = CTD_T[0]\n",
        "Nz = 1000\n",
        "\n",
        "# Set the upwelling velocity\n",
        "w = 1e-7 # m/s\n",
        "# Set the diffusivity\n",
        "#kappa=1e-7 # m^2/s\n",
        "#finding a better diffusivity that is a few orders largeer to account for mixing from small-scale turbulence\n",
        "kappa = 1e-4 #m^2/s\n",
        "\n",
        "# Bases\n",
        "zcoord = d3.Coordinate('z')\n",
        "dist = d3.Distributor(zcoord, dtype=np.float64)\n",
        "zbasis = d3.Chebyshev(zcoord, size=Nz, bounds=(z_bottom, z_surface))\n",
        "z = dist.local_grid(zbasis)\n",
        "\n",
        "# Fields\n",
        "T = dist.Field(name='T', bases=zbasis)\n",
        "\n",
        "# Add two tau variables to allow us to apply two boundary conditions\n",
        "tau_1 = dist.Field(name='tau_1')\n",
        "tau_2 = dist.Field(name='tau_2')\n",
        "lift_basis = zbasis.derivative_basis(1)\n",
        "lift = lambda A: d3.Lift(A, lift_basis, -1)\n",
        "\n",
        "# Substitutions\n",
        "dz = lambda A: d3.Differentiate(A, zcoord)\n",
        "Tz = dz(T) + lift(tau_1)\n",
        "Tzz = dz(Tz) + lift(tau_2)\n",
        "\n",
        "# Problem\n",
        "problem = d3.LBVP([T, tau_1, tau_2], namespace=locals())\n",
        "problem.add_equation(\"w*Tz - kappa*Tzz = 0\")\n",
        "problem.add_equation(\"T(z=z_surface) = T_surface\")\n",
        "problem.add_equation(\"T(z=z_bottom) = T_bottom\")\n",
        "\n",
        "# Solver\n",
        "solver = problem.build_solver()\n",
        "solver.solve()\n",
        "\n",
        "# Plot\n",
        "plt.figure(figsize=(6, 4))\n",
        "Tg=T['g']\n",
        "plt.scatter(CTD_T,CTD_z,s=10)\n",
        "plt.plot(Tg,z,'k')\n",
        "plt.xlabel('Temperature (ºC)')\n",
        "plt.ylabel('Depth (m)')"
      ]
    },
    {
      "cell_type": "markdown",
      "metadata": {
        "id": "tkpXPVDL0zx-"
      },
      "source": [
        "### 1.4 Student investigation\n",
        "<a id='section1pt4'></a>\n",
        "Note that the profile above is not a good fit to the data. This implies that molecular diffusion isn't sufficient to transport heat down from the surface and stop the ocean from filling up with cold, dense water.\n",
        "\n",
        "Munk (1966) proposed that small-scale turbulence in the ocean interior results in a diffusivity that is orders of magnitude larger than the molecular value. Find a diffusivity that gives a good match with the data and test it in the Dedalus script above. Comment on the ability of this model (steady advection/diffusion) to fit the data."
      ]
    },
    {
      "cell_type": "markdown",
      "metadata": {
        "id": "VvUeti7H0zx-"
      },
      "source": [
        "ADD DISCUSSION HERE\n",
        "\n",
        "Increasing the diffusivity constant by a factor of 10^3 to account for turbulence so therefore using kappa = 1e-4 and w = 1e-7 resulted in a temperature profile much closer to the observed data."
      ]
    },
    {
      "cell_type": "markdown",
      "metadata": {
        "id": "qcNlVAiD0zx_"
      },
      "source": [
        "### 1.5 Turning ocean mixing upside down\n",
        "\n",
        "Decades of research to measure the turbulent diffusivity in the ocean consistently found values much smaller than the one predicted by Munk (1966). Specifically, while larger values of the turbulent diffusivity were found near the bottom of the ocean over rough topographic features, the values in the upper ocean were about 10x smaller than the values predicted by Munk. 50 years after Munk's seminal paper, Ferrari et al. (2016) proposed that a depth-dependent turbulent diffusivity could be balanced by <em>downwelling</em>, with negative vertical velocities in the ocean interior. In this theory, the overturning circulation is upwelling in thin boundary layers along the sloping sides of the ocean basins.\n",
        "\n",
        "When the diffusivity, $\\kappa$, is a function of $z$, the steady advection/diffusion equation can be written\n",
        "\n",
        "$$ w\\frac{dT}{dz} = \\frac{d}{dz}\\left(\\kappa(z) \\frac{dT}{dz}\\right)$$\n",
        "\n",
        "The Dedalus script below solves the previous equation and again compares the results with the observed temperature profile. For the depth-dependent diffusivity, $\\kappa(z)$, we take\n",
        "\n",
        "$$ \\kappa(z)=\\kappa_{bg} + (\\kappa_0-\\kappa_{bg})e^{-(z+D)/l} $$\n",
        "\n",
        "using the form from Rogers et al., 2023, where $\\kappa_{bg}=1\\times 10^{-5} m^2/s$ is the background diffusivity characteristic of the upper water column, $\\kappa_0=8.6\\times 10^{-4} m^2/s$ characterizes the enhanced mixing near the bottom of the ocean, $D$ is a reference depth where $\\kappa=\\kappa_0$, and $l=667m$ is an exponential decay scale. In the script below, we start with $w=0$."
      ]
    },
    {
      "cell_type": "code",
      "execution_count": 38,
      "metadata": {
        "id": "KJV2K_f80zx_",
        "outputId": "cf300bd8-c559-4e46-9da4-0561d6a9eeb2",
        "colab": {
          "base_uri": "https://localhost:8080/",
          "height": 442
        }
      },
      "outputs": [
        {
          "output_type": "stream",
          "name": "stderr",
          "text": [
            "INFO:subsystems:Building subproblem matrices 1/1 (~100%) Elapsed: 0s, Remaining: 0s, Rate: 2.7e+00/s\n"
          ]
        },
        {
          "output_type": "stream",
          "name": "stdout",
          "text": [
            "2024-11-07 15:04:32,643 subsystems 0/1 INFO :: Building subproblem matrices 1/1 (~100%) Elapsed: 0s, Remaining: 0s, Rate: 2.7e+00/s\n"
          ]
        },
        {
          "output_type": "execute_result",
          "data": {
            "text/plain": [
              "Text(0, 0.5, 'Depth (m)')"
            ]
          },
          "metadata": {},
          "execution_count": 38
        },
        {
          "output_type": "display_data",
          "data": {
            "text/plain": [
              "<Figure size 600x400 with 1 Axes>"
            ],
            "image/png": "[encoded data removed]"
          },
          "metadata": {}
        }
      ],
      "source": [
        "\"\"\"\n",
        "Dedalus script to solve the steady advection/diffusion equation\n",
        "with a spatially-variable diffusivity\n",
        "\"\"\"\n",
        "\n",
        "import numpy as np\n",
        "import matplotlib.pyplot as plt\n",
        "import dedalus.public as d3\n",
        "import logging\n",
        "logger = logging.getLogger(__name__)\n",
        "\n",
        "# Set various parameters. Note that the depth and the top and bottom temperature\n",
        "# are taken from the CTD data in the code cell above. That cell must be run first to define CTD_T and CTD_z.\n",
        "z_surface = CTD_z[-1]\n",
        "z_bottom = CTD_z[0]\n",
        "T_surface = CTD_T[-1]\n",
        "T_bottom = CTD_T[0]\n",
        "Nz = 1000\n",
        "\n",
        "# Set the vertical velocity\n",
        "# w = 0 # m/s\n",
        "# choosing a more suitable vertical velocity\n",
        "w = 1e-8\n",
        "\n",
        "# Bases\n",
        "zcoord = d3.Coordinate('z')\n",
        "dist = d3.Distributor(zcoord, dtype=np.float64)\n",
        "zbasis = d3.Chebyshev(zcoord, size=Nz, bounds=(z_bottom, z_surface))\n",
        "z = dist.local_grid(zbasis)\n",
        "\n",
        "# Fields\n",
        "T = dist.Field(name='T', bases=zbasis)\n",
        "kappa = dist.Field(name='kappa', bases=zbasis)\n",
        "# Set the diffusivity\n",
        "# Below is the diffusivity profile from Rogers et al., 2023\n",
        "#kappa['g']=1e-5 + (8.6e-4-1e-5)*np.exp((-5e3-z)/667) # m^2/s\n",
        "# varying coefficients in kappa\n",
        "kappa['g']=1e-5 + (8e-4-1e-5)*np.exp((-5.5e3-z)/667) # m^2/s\n",
        "\n",
        "# Add two tau variables to allow us to apply two boundary conditions\n",
        "tau_1 = dist.Field(name='tau_1')\n",
        "tau_2 = dist.Field(name='tau_2')\n",
        "lift_basis = zbasis.derivative_basis(1)\n",
        "lift = lambda A: d3.Lift(A, lift_basis, -1)\n",
        "\n",
        "# Substitutions\n",
        "dz = lambda A: d3.Differentiate(A, zcoord)\n",
        "Tz = dz(T) + lift(tau_1)\n",
        "Tzz = dz(Tz) + lift(tau_2)\n",
        "\n",
        "# Problem\n",
        "problem = d3.LBVP([T, tau_1, tau_2], namespace=locals())\n",
        "problem.add_equation(\"w*Tz - dz(kappa*Tz) + lift(tau_2) = 0\")\n",
        "problem.add_equation(\"T(z=z_surface) = T_surface\")\n",
        "problem.add_equation(\"T(z=z_bottom) = T_bottom\")\n",
        "\n",
        "# Solver\n",
        "solver = problem.build_solver()\n",
        "solver.solve()\n",
        "\n",
        "# Plot\n",
        "plt.figure(figsize=(6, 4))\n",
        "Tg=T['g']\n",
        "plt.scatter(CTD_T,CTD_z,s=10)\n",
        "plt.plot(Tg,z,'k')\n",
        "plt.xlabel('Temperature (ºC)')\n",
        "plt.ylabel('Depth (m)')"
      ]
    },
    {
      "cell_type": "markdown",
      "metadata": {
        "id": "mzpA5XZT0zyA"
      },
      "source": [
        "### 1.6 Student investigation\n",
        "<a id='section1pt6'></a>\n",
        "Note from the results of the script above that the density profile is reasonable, even though $w=0$. In the box below, comment on the balance in this case and what this implies about the diffusive heat flux.\n",
        "\n",
        "Next, find a vertical velocity that produces a better agreement with the observations and report it below. Then, try varying the details of the $\\kappa(z)$ profile. How sensitive is the optimal $w$ to your choice of $\\kappa(z)$? What does this imply about the circulation in the ocean interior if $\\kappa(z)$ varies between regions of smooth and rough topography?\n",
        "\n",
        "(As an aside, note that the requied vertical velocity is much smaller than the one used by Munk (1966). This implies that the dense, cold water that sinks at the poles must rise elsewhere. Ferrari et al. (2016) proposed that this occurs in boundary layers near the seafloor.)"
      ]
    },
    {
      "cell_type": "markdown",
      "metadata": {
        "id": "YsjjmAYN0zyA"
      },
      "source": [
        "INSERT COMMENTS HERE \\\\\n",
        "The vertical velcity was chosen to be w = 1e-8 as the net upwelling + downwelling (smaller than 1e-7 proposed by Munk).\n",
        "Changing the background diffusivity of the ocean within the same order of magnitude didn't affect the temperature profile a lot (the plot was still curved h=ujst a little above or below the observed points).\n",
        "\n",
        "D and k_0 were also both slightly adjst ed to try and make the profile fit better particularly for the shallower depths."
      ]
    },
    {
      "cell_type": "markdown",
      "metadata": {
        "id": "BoO0usU60zyA"
      },
      "source": [
        "## 2. Transport of pollution in a river\n",
        "\n",
        "Advection/diffusion equations are a common way to model the material transport in many physical systems. In this section we will model the transport and dilution of a pollutants added to a river.\n",
        "\n",
        "For simplicity, we will model the river as a rectangular channel, and we will neglect depth variations. Let $x$ be the coordinate along the length of the river, and $y$ be the cross-stream coordinate. We will model the river current as\n",
        "\n",
        "$$ u(y) = U_0\\left(1-\\frac{(y-w/2)^2}{(w/2)^2}\\right) $$\n",
        "\n",
        "where $w$ is the width of the river and $U_0$ is the maximum current speed which occurs at the center of the river (the $y$-coordinate will run from 0 to $w$).\n",
        "\n",
        "Since we want to know how the pollution levels vary in time, we will solve the time-dependent advection/diffusion equation. We will model the addition of pollution by adding a spatially-dependent source term to the right hand side of the equation governing pollutant concentration:\n",
        "\n",
        "$$ \\frac{\\partial c}{\\partial t} + u(y)\\frac{\\partial c}{\\partial x} = \\kappa \\nabla^2 c + S(x,y) $$\n",
        "\n",
        "where $\\nabla^2=(\\partial_x^2 + \\partial_y^2)$ is the Laplacian operator for diffusion in 2D Cartesian coordinates, and $S$ is the source term."
      ]
    },
    {
      "cell_type": "markdown",
      "metadata": {
        "id": "ErYPOnlq0zyB"
      },
      "source": [
        "### 2.1 Dedalus script\n",
        "\n",
        "The script below solves the time-dependent advection/diffusion equation with a source term."
      ]
    },
    {
      "cell_type": "code",
      "execution_count": 73,
      "metadata": {
        "id": "QA0dwjzF0zyB",
        "outputId": "535be0d2-1cf0-4051-8ed7-e59e4d8a0379",
        "colab": {
          "base_uri": "https://localhost:8080/"
        }
      },
      "outputs": [
        {
          "output_type": "stream",
          "name": "stderr",
          "text": [
            "INFO:subsystems:Building subproblem matrices 1/1 (~100%) Elapsed: 0s, Remaining: 0s, Rate: 8.0e+00/s\n"
          ]
        },
        {
          "output_type": "stream",
          "name": "stdout",
          "text": [
            "2024-11-07 16:42:13,943 subsystems 0/1 INFO :: Building subproblem matrices 1/1 (~100%) Elapsed: 0s, Remaining: 0s, Rate: 8.0e+00/s\n"
          ]
        },
        {
          "output_type": "stream",
          "name": "stderr",
          "text": [
            "INFO:__main__:Starting main loop\n"
          ]
        },
        {
          "output_type": "stream",
          "name": "stdout",
          "text": [
            "2024-11-07 16:42:13,953 __main__ 0/1 INFO :: Starting main loop\n"
          ]
        },
        {
          "output_type": "stream",
          "name": "stderr",
          "text": [
            "INFO:__main__:Iteration=1, Time=1.953125e+00, dt=1.953125e+00\n"
          ]
        },
        {
          "output_type": "stream",
          "name": "stdout",
          "text": [
            "2024-11-07 16:42:13,983 __main__ 0/1 INFO :: Iteration=1, Time=1.953125e+00, dt=1.953125e+00\n"
          ]
        },
        {
          "output_type": "stream",
          "name": "stderr",
          "text": [
            "INFO:__main__:Iteration=11, Time=2.148438e+01, dt=1.953125e+00\n"
          ]
        },
        {
          "output_type": "stream",
          "name": "stdout",
          "text": [
            "2024-11-07 16:42:14,016 __main__ 0/1 INFO :: Iteration=11, Time=2.148438e+01, dt=1.953125e+00\n"
          ]
        },
        {
          "output_type": "stream",
          "name": "stderr",
          "text": [
            "INFO:__main__:Iteration=21, Time=4.101562e+01, dt=1.953125e+00\n"
          ]
        },
        {
          "output_type": "stream",
          "name": "stdout",
          "text": [
            "2024-11-07 16:42:14,047 __main__ 0/1 INFO :: Iteration=21, Time=4.101562e+01, dt=1.953125e+00\n"
          ]
        },
        {
          "output_type": "stream",
          "name": "stderr",
          "text": [
            "INFO:__main__:Iteration=31, Time=6.054688e+01, dt=1.953125e+00\n"
          ]
        },
        {
          "output_type": "stream",
          "name": "stdout",
          "text": [
            "2024-11-07 16:42:14,077 __main__ 0/1 INFO :: Iteration=31, Time=6.054688e+01, dt=1.953125e+00\n"
          ]
        },
        {
          "output_type": "stream",
          "name": "stderr",
          "text": [
            "INFO:__main__:Iteration=41, Time=8.007812e+01, dt=1.953125e+00\n"
          ]
        },
        {
          "output_type": "stream",
          "name": "stdout",
          "text": [
            "2024-11-07 16:42:14,107 __main__ 0/1 INFO :: Iteration=41, Time=8.007812e+01, dt=1.953125e+00\n"
          ]
        },
        {
          "output_type": "stream",
          "name": "stderr",
          "text": [
            "INFO:__main__:Iteration=51, Time=9.960938e+01, dt=1.953125e+00\n"
          ]
        },
        {
          "output_type": "stream",
          "name": "stdout",
          "text": [
            "2024-11-07 16:42:14,136 __main__ 0/1 INFO :: Iteration=51, Time=9.960938e+01, dt=1.953125e+00\n"
          ]
        },
        {
          "output_type": "stream",
          "name": "stderr",
          "text": [
            "INFO:__main__:Iteration=61, Time=1.191406e+02, dt=1.953125e+00\n"
          ]
        },
        {
          "output_type": "stream",
          "name": "stdout",
          "text": [
            "2024-11-07 16:42:14,167 __main__ 0/1 INFO :: Iteration=61, Time=1.191406e+02, dt=1.953125e+00\n"
          ]
        },
        {
          "output_type": "stream",
          "name": "stderr",
          "text": [
            "INFO:__main__:Iteration=71, Time=1.386719e+02, dt=1.953125e+00\n"
          ]
        },
        {
          "output_type": "stream",
          "name": "stdout",
          "text": [
            "2024-11-07 16:42:14,198 __main__ 0/1 INFO :: Iteration=71, Time=1.386719e+02, dt=1.953125e+00\n"
          ]
        },
        {
          "output_type": "stream",
          "name": "stderr",
          "text": [
            "INFO:__main__:Iteration=81, Time=1.582031e+02, dt=1.953125e+00\n"
          ]
        },
        {
          "output_type": "stream",
          "name": "stdout",
          "text": [
            "2024-11-07 16:42:14,228 __main__ 0/1 INFO :: Iteration=81, Time=1.582031e+02, dt=1.953125e+00\n"
          ]
        },
        {
          "output_type": "stream",
          "name": "stderr",
          "text": [
            "INFO:__main__:Iteration=91, Time=1.777344e+02, dt=1.953125e+00\n"
          ]
        },
        {
          "output_type": "stream",
          "name": "stdout",
          "text": [
            "2024-11-07 16:42:14,262 __main__ 0/1 INFO :: Iteration=91, Time=1.777344e+02, dt=1.953125e+00\n"
          ]
        },
        {
          "output_type": "stream",
          "name": "stderr",
          "text": [
            "INFO:__main__:Iteration=101, Time=1.972656e+02, dt=1.953125e+00\n"
          ]
        },
        {
          "output_type": "stream",
          "name": "stdout",
          "text": [
            "2024-11-07 16:42:14,292 __main__ 0/1 INFO :: Iteration=101, Time=1.972656e+02, dt=1.953125e+00\n"
          ]
        },
        {
          "output_type": "stream",
          "name": "stderr",
          "text": [
            "INFO:__main__:Iteration=111, Time=2.167969e+02, dt=1.953125e+00\n"
          ]
        },
        {
          "output_type": "stream",
          "name": "stdout",
          "text": [
            "2024-11-07 16:42:14,322 __main__ 0/1 INFO :: Iteration=111, Time=2.167969e+02, dt=1.953125e+00\n"
          ]
        },
        {
          "output_type": "stream",
          "name": "stderr",
          "text": [
            "INFO:__main__:Iteration=121, Time=2.363281e+02, dt=1.953125e+00\n"
          ]
        },
        {
          "output_type": "stream",
          "name": "stdout",
          "text": [
            "2024-11-07 16:42:14,353 __main__ 0/1 INFO :: Iteration=121, Time=2.363281e+02, dt=1.953125e+00\n"
          ]
        },
        {
          "output_type": "stream",
          "name": "stderr",
          "text": [
            "INFO:__main__:Iteration=131, Time=2.558594e+02, dt=1.953125e+00\n"
          ]
        },
        {
          "output_type": "stream",
          "name": "stdout",
          "text": [
            "2024-11-07 16:42:14,386 __main__ 0/1 INFO :: Iteration=131, Time=2.558594e+02, dt=1.953125e+00\n"
          ]
        },
        {
          "output_type": "stream",
          "name": "stderr",
          "text": [
            "INFO:__main__:Iteration=141, Time=2.753906e+02, dt=1.953125e+00\n"
          ]
        },
        {
          "output_type": "stream",
          "name": "stdout",
          "text": [
            "2024-11-07 16:42:14,416 __main__ 0/1 INFO :: Iteration=141, Time=2.753906e+02, dt=1.953125e+00\n"
          ]
        },
        {
          "output_type": "stream",
          "name": "stderr",
          "text": [
            "INFO:__main__:Iteration=151, Time=2.949219e+02, dt=1.953125e+00\n"
          ]
        },
        {
          "output_type": "stream",
          "name": "stdout",
          "text": [
            "2024-11-07 16:42:14,450 __main__ 0/1 INFO :: Iteration=151, Time=2.949219e+02, dt=1.953125e+00\n"
          ]
        },
        {
          "output_type": "stream",
          "name": "stderr",
          "text": [
            "INFO:__main__:Iteration=161, Time=3.144531e+02, dt=1.953125e+00\n"
          ]
        },
        {
          "output_type": "stream",
          "name": "stdout",
          "text": [
            "2024-11-07 16:42:14,491 __main__ 0/1 INFO :: Iteration=161, Time=3.144531e+02, dt=1.953125e+00\n"
          ]
        },
        {
          "output_type": "stream",
          "name": "stderr",
          "text": [
            "INFO:__main__:Iteration=171, Time=3.339844e+02, dt=1.953125e+00\n"
          ]
        },
        {
          "output_type": "stream",
          "name": "stdout",
          "text": [
            "2024-11-07 16:42:14,522 __main__ 0/1 INFO :: Iteration=171, Time=3.339844e+02, dt=1.953125e+00\n"
          ]
        },
        {
          "output_type": "stream",
          "name": "stderr",
          "text": [
            "INFO:__main__:Iteration=181, Time=3.535156e+02, dt=1.953125e+00\n"
          ]
        },
        {
          "output_type": "stream",
          "name": "stdout",
          "text": [
            "2024-11-07 16:42:14,561 __main__ 0/1 INFO :: Iteration=181, Time=3.535156e+02, dt=1.953125e+00\n"
          ]
        },
        {
          "output_type": "stream",
          "name": "stderr",
          "text": [
            "INFO:__main__:Iteration=191, Time=3.730469e+02, dt=1.953125e+00\n"
          ]
        },
        {
          "output_type": "stream",
          "name": "stdout",
          "text": [
            "2024-11-07 16:42:14,598 __main__ 0/1 INFO :: Iteration=191, Time=3.730469e+02, dt=1.953125e+00\n"
          ]
        },
        {
          "output_type": "stream",
          "name": "stderr",
          "text": [
            "INFO:__main__:Iteration=201, Time=3.925781e+02, dt=1.953125e+00\n"
          ]
        },
        {
          "output_type": "stream",
          "name": "stdout",
          "text": [
            "2024-11-07 16:42:14,641 __main__ 0/1 INFO :: Iteration=201, Time=3.925781e+02, dt=1.953125e+00\n"
          ]
        },
        {
          "output_type": "stream",
          "name": "stderr",
          "text": [
            "INFO:__main__:Iteration=211, Time=4.121094e+02, dt=1.953125e+00\n"
          ]
        },
        {
          "output_type": "stream",
          "name": "stdout",
          "text": [
            "2024-11-07 16:42:14,677 __main__ 0/1 INFO :: Iteration=211, Time=4.121094e+02, dt=1.953125e+00\n"
          ]
        },
        {
          "output_type": "stream",
          "name": "stderr",
          "text": [
            "INFO:__main__:Iteration=221, Time=4.316406e+02, dt=1.953125e+00\n"
          ]
        },
        {
          "output_type": "stream",
          "name": "stdout",
          "text": [
            "2024-11-07 16:42:14,716 __main__ 0/1 INFO :: Iteration=221, Time=4.316406e+02, dt=1.953125e+00\n"
          ]
        },
        {
          "output_type": "stream",
          "name": "stderr",
          "text": [
            "INFO:__main__:Iteration=231, Time=4.511719e+02, dt=1.953125e+00\n"
          ]
        },
        {
          "output_type": "stream",
          "name": "stdout",
          "text": [
            "2024-11-07 16:42:14,760 __main__ 0/1 INFO :: Iteration=231, Time=4.511719e+02, dt=1.953125e+00\n"
          ]
        },
        {
          "output_type": "stream",
          "name": "stderr",
          "text": [
            "INFO:__main__:Iteration=241, Time=4.707031e+02, dt=1.953125e+00\n"
          ]
        },
        {
          "output_type": "stream",
          "name": "stdout",
          "text": [
            "2024-11-07 16:42:14,801 __main__ 0/1 INFO :: Iteration=241, Time=4.707031e+02, dt=1.953125e+00\n"
          ]
        },
        {
          "output_type": "stream",
          "name": "stderr",
          "text": [
            "INFO:__main__:Iteration=251, Time=4.902344e+02, dt=1.953125e+00\n"
          ]
        },
        {
          "output_type": "stream",
          "name": "stdout",
          "text": [
            "2024-11-07 16:42:14,839 __main__ 0/1 INFO :: Iteration=251, Time=4.902344e+02, dt=1.953125e+00\n"
          ]
        },
        {
          "output_type": "stream",
          "name": "stderr",
          "text": [
            "INFO:__main__:Iteration=261, Time=5.097656e+02, dt=1.953125e+00\n"
          ]
        },
        {
          "output_type": "stream",
          "name": "stdout",
          "text": [
            "2024-11-07 16:42:14,875 __main__ 0/1 INFO :: Iteration=261, Time=5.097656e+02, dt=1.953125e+00\n"
          ]
        },
        {
          "output_type": "stream",
          "name": "stderr",
          "text": [
            "INFO:__main__:Iteration=271, Time=5.292969e+02, dt=1.953125e+00\n"
          ]
        },
        {
          "output_type": "stream",
          "name": "stdout",
          "text": [
            "2024-11-07 16:42:14,919 __main__ 0/1 INFO :: Iteration=271, Time=5.292969e+02, dt=1.953125e+00\n"
          ]
        },
        {
          "output_type": "stream",
          "name": "stderr",
          "text": [
            "INFO:__main__:Iteration=281, Time=5.488281e+02, dt=1.953125e+00\n"
          ]
        },
        {
          "output_type": "stream",
          "name": "stdout",
          "text": [
            "2024-11-07 16:42:14,966 __main__ 0/1 INFO :: Iteration=281, Time=5.488281e+02, dt=1.953125e+00\n"
          ]
        },
        {
          "output_type": "stream",
          "name": "stderr",
          "text": [
            "INFO:__main__:Iteration=291, Time=5.683594e+02, dt=1.953125e+00\n"
          ]
        },
        {
          "output_type": "stream",
          "name": "stdout",
          "text": [
            "2024-11-07 16:42:15,009 __main__ 0/1 INFO :: Iteration=291, Time=5.683594e+02, dt=1.953125e+00\n"
          ]
        },
        {
          "output_type": "stream",
          "name": "stderr",
          "text": [
            "INFO:__main__:Iteration=301, Time=5.878906e+02, dt=1.953125e+00\n"
          ]
        },
        {
          "output_type": "stream",
          "name": "stdout",
          "text": [
            "2024-11-07 16:42:15,056 __main__ 0/1 INFO :: Iteration=301, Time=5.878906e+02, dt=1.953125e+00\n"
          ]
        },
        {
          "output_type": "stream",
          "name": "stderr",
          "text": [
            "INFO:__main__:Iteration=311, Time=6.074219e+02, dt=1.953125e+00\n"
          ]
        },
        {
          "output_type": "stream",
          "name": "stdout",
          "text": [
            "2024-11-07 16:42:15,102 __main__ 0/1 INFO :: Iteration=311, Time=6.074219e+02, dt=1.953125e+00\n"
          ]
        },
        {
          "output_type": "stream",
          "name": "stderr",
          "text": [
            "INFO:__main__:Iteration=321, Time=6.269531e+02, dt=1.953125e+00\n"
          ]
        },
        {
          "output_type": "stream",
          "name": "stdout",
          "text": [
            "2024-11-07 16:42:15,147 __main__ 0/1 INFO :: Iteration=321, Time=6.269531e+02, dt=1.953125e+00\n"
          ]
        },
        {
          "output_type": "stream",
          "name": "stderr",
          "text": [
            "INFO:__main__:Iteration=331, Time=6.464844e+02, dt=1.953125e+00\n"
          ]
        },
        {
          "output_type": "stream",
          "name": "stdout",
          "text": [
            "2024-11-07 16:42:15,189 __main__ 0/1 INFO :: Iteration=331, Time=6.464844e+02, dt=1.953125e+00\n"
          ]
        },
        {
          "output_type": "stream",
          "name": "stderr",
          "text": [
            "INFO:__main__:Iteration=341, Time=6.660156e+02, dt=1.953125e+00\n"
          ]
        },
        {
          "output_type": "stream",
          "name": "stdout",
          "text": [
            "2024-11-07 16:42:15,246 __main__ 0/1 INFO :: Iteration=341, Time=6.660156e+02, dt=1.953125e+00\n"
          ]
        },
        {
          "output_type": "stream",
          "name": "stderr",
          "text": [
            "INFO:__main__:Iteration=351, Time=6.855469e+02, dt=1.953125e+00\n"
          ]
        },
        {
          "output_type": "stream",
          "name": "stdout",
          "text": [
            "2024-11-07 16:42:15,295 __main__ 0/1 INFO :: Iteration=351, Time=6.855469e+02, dt=1.953125e+00\n"
          ]
        },
        {
          "output_type": "stream",
          "name": "stderr",
          "text": [
            "INFO:__main__:Iteration=361, Time=7.050781e+02, dt=1.953125e+00\n"
          ]
        },
        {
          "output_type": "stream",
          "name": "stdout",
          "text": [
            "2024-11-07 16:42:15,336 __main__ 0/1 INFO :: Iteration=361, Time=7.050781e+02, dt=1.953125e+00\n"
          ]
        },
        {
          "output_type": "stream",
          "name": "stderr",
          "text": [
            "INFO:__main__:Iteration=371, Time=7.246094e+02, dt=1.953125e+00\n"
          ]
        },
        {
          "output_type": "stream",
          "name": "stdout",
          "text": [
            "2024-11-07 16:42:15,378 __main__ 0/1 INFO :: Iteration=371, Time=7.246094e+02, dt=1.953125e+00\n"
          ]
        },
        {
          "output_type": "stream",
          "name": "stderr",
          "text": [
            "INFO:__main__:Iteration=381, Time=7.441406e+02, dt=1.953125e+00\n"
          ]
        },
        {
          "output_type": "stream",
          "name": "stdout",
          "text": [
            "2024-11-07 16:42:15,419 __main__ 0/1 INFO :: Iteration=381, Time=7.441406e+02, dt=1.953125e+00\n"
          ]
        },
        {
          "output_type": "stream",
          "name": "stderr",
          "text": [
            "INFO:__main__:Iteration=391, Time=7.636719e+02, dt=1.953125e+00\n"
          ]
        },
        {
          "output_type": "stream",
          "name": "stdout",
          "text": [
            "2024-11-07 16:42:15,462 __main__ 0/1 INFO :: Iteration=391, Time=7.636719e+02, dt=1.953125e+00\n"
          ]
        },
        {
          "output_type": "stream",
          "name": "stderr",
          "text": [
            "INFO:__main__:Iteration=401, Time=7.832031e+02, dt=1.953125e+00\n"
          ]
        },
        {
          "output_type": "stream",
          "name": "stdout",
          "text": [
            "2024-11-07 16:42:15,510 __main__ 0/1 INFO :: Iteration=401, Time=7.832031e+02, dt=1.953125e+00\n"
          ]
        },
        {
          "output_type": "stream",
          "name": "stderr",
          "text": [
            "INFO:__main__:Iteration=411, Time=8.027344e+02, dt=1.953125e+00\n"
          ]
        },
        {
          "output_type": "stream",
          "name": "stdout",
          "text": [
            "2024-11-07 16:42:15,567 __main__ 0/1 INFO :: Iteration=411, Time=8.027344e+02, dt=1.953125e+00\n"
          ]
        },
        {
          "output_type": "stream",
          "name": "stderr",
          "text": [
            "INFO:__main__:Iteration=421, Time=8.222656e+02, dt=1.953125e+00\n"
          ]
        },
        {
          "output_type": "stream",
          "name": "stdout",
          "text": [
            "2024-11-07 16:42:15,614 __main__ 0/1 INFO :: Iteration=421, Time=8.222656e+02, dt=1.953125e+00\n"
          ]
        },
        {
          "output_type": "stream",
          "name": "stderr",
          "text": [
            "INFO:__main__:Iteration=431, Time=8.417969e+02, dt=1.953125e+00\n"
          ]
        },
        {
          "output_type": "stream",
          "name": "stdout",
          "text": [
            "2024-11-07 16:42:15,666 __main__ 0/1 INFO :: Iteration=431, Time=8.417969e+02, dt=1.953125e+00\n"
          ]
        },
        {
          "output_type": "stream",
          "name": "stderr",
          "text": [
            "INFO:__main__:Iteration=441, Time=8.613281e+02, dt=1.953125e+00\n"
          ]
        },
        {
          "output_type": "stream",
          "name": "stdout",
          "text": [
            "2024-11-07 16:42:15,715 __main__ 0/1 INFO :: Iteration=441, Time=8.613281e+02, dt=1.953125e+00\n"
          ]
        },
        {
          "output_type": "stream",
          "name": "stderr",
          "text": [
            "INFO:__main__:Iteration=451, Time=8.808594e+02, dt=1.953125e+00\n"
          ]
        },
        {
          "output_type": "stream",
          "name": "stdout",
          "text": [
            "2024-11-07 16:42:15,761 __main__ 0/1 INFO :: Iteration=451, Time=8.808594e+02, dt=1.953125e+00\n"
          ]
        },
        {
          "output_type": "stream",
          "name": "stderr",
          "text": [
            "INFO:__main__:Iteration=461, Time=9.003906e+02, dt=1.953125e+00\n"
          ]
        },
        {
          "output_type": "stream",
          "name": "stdout",
          "text": [
            "2024-11-07 16:42:15,804 __main__ 0/1 INFO :: Iteration=461, Time=9.003906e+02, dt=1.953125e+00\n"
          ]
        },
        {
          "output_type": "stream",
          "name": "stderr",
          "text": [
            "INFO:__main__:Iteration=471, Time=9.199219e+02, dt=1.953125e+00\n"
          ]
        },
        {
          "output_type": "stream",
          "name": "stdout",
          "text": [
            "2024-11-07 16:42:15,847 __main__ 0/1 INFO :: Iteration=471, Time=9.199219e+02, dt=1.953125e+00\n"
          ]
        },
        {
          "output_type": "stream",
          "name": "stderr",
          "text": [
            "INFO:__main__:Iteration=481, Time=9.394531e+02, dt=1.953125e+00\n"
          ]
        },
        {
          "output_type": "stream",
          "name": "stdout",
          "text": [
            "2024-11-07 16:42:15,897 __main__ 0/1 INFO :: Iteration=481, Time=9.394531e+02, dt=1.953125e+00\n"
          ]
        },
        {
          "output_type": "stream",
          "name": "stderr",
          "text": [
            "INFO:__main__:Iteration=491, Time=9.589844e+02, dt=1.953125e+00\n"
          ]
        },
        {
          "output_type": "stream",
          "name": "stdout",
          "text": [
            "2024-11-07 16:42:15,942 __main__ 0/1 INFO :: Iteration=491, Time=9.589844e+02, dt=1.953125e+00\n"
          ]
        },
        {
          "output_type": "stream",
          "name": "stderr",
          "text": [
            "INFO:__main__:Iteration=501, Time=9.785156e+02, dt=1.953125e+00\n"
          ]
        },
        {
          "output_type": "stream",
          "name": "stdout",
          "text": [
            "2024-11-07 16:42:15,993 __main__ 0/1 INFO :: Iteration=501, Time=9.785156e+02, dt=1.953125e+00\n"
          ]
        },
        {
          "output_type": "stream",
          "name": "stderr",
          "text": [
            "INFO:__main__:Iteration=511, Time=9.980469e+02, dt=1.953125e+00\n"
          ]
        },
        {
          "output_type": "stream",
          "name": "stdout",
          "text": [
            "2024-11-07 16:42:16,039 __main__ 0/1 INFO :: Iteration=511, Time=9.980469e+02, dt=1.953125e+00\n"
          ]
        },
        {
          "output_type": "stream",
          "name": "stderr",
          "text": [
            "INFO:__main__:Iteration=521, Time=1.017578e+03, dt=1.953125e+00\n"
          ]
        },
        {
          "output_type": "stream",
          "name": "stdout",
          "text": [
            "2024-11-07 16:42:16,080 __main__ 0/1 INFO :: Iteration=521, Time=1.017578e+03, dt=1.953125e+00\n"
          ]
        },
        {
          "output_type": "stream",
          "name": "stderr",
          "text": [
            "INFO:__main__:Iteration=531, Time=1.037109e+03, dt=1.953125e+00\n"
          ]
        },
        {
          "output_type": "stream",
          "name": "stdout",
          "text": [
            "2024-11-07 16:42:16,126 __main__ 0/1 INFO :: Iteration=531, Time=1.037109e+03, dt=1.953125e+00\n"
          ]
        },
        {
          "output_type": "stream",
          "name": "stderr",
          "text": [
            "INFO:__main__:Iteration=541, Time=1.056641e+03, dt=1.953125e+00\n"
          ]
        },
        {
          "output_type": "stream",
          "name": "stdout",
          "text": [
            "2024-11-07 16:42:16,169 __main__ 0/1 INFO :: Iteration=541, Time=1.056641e+03, dt=1.953125e+00\n"
          ]
        },
        {
          "output_type": "stream",
          "name": "stderr",
          "text": [
            "INFO:__main__:Iteration=551, Time=1.076172e+03, dt=1.953125e+00\n"
          ]
        },
        {
          "output_type": "stream",
          "name": "stdout",
          "text": [
            "2024-11-07 16:42:16,214 __main__ 0/1 INFO :: Iteration=551, Time=1.076172e+03, dt=1.953125e+00\n"
          ]
        },
        {
          "output_type": "stream",
          "name": "stderr",
          "text": [
            "INFO:__main__:Iteration=561, Time=1.095703e+03, dt=1.953125e+00\n"
          ]
        },
        {
          "output_type": "stream",
          "name": "stdout",
          "text": [
            "2024-11-07 16:42:16,266 __main__ 0/1 INFO :: Iteration=561, Time=1.095703e+03, dt=1.953125e+00\n"
          ]
        },
        {
          "output_type": "stream",
          "name": "stderr",
          "text": [
            "INFO:__main__:Iteration=571, Time=1.115234e+03, dt=1.953125e+00\n"
          ]
        },
        {
          "output_type": "stream",
          "name": "stdout",
          "text": [
            "2024-11-07 16:42:16,314 __main__ 0/1 INFO :: Iteration=571, Time=1.115234e+03, dt=1.953125e+00\n"
          ]
        },
        {
          "output_type": "stream",
          "name": "stderr",
          "text": [
            "INFO:__main__:Iteration=581, Time=1.134766e+03, dt=1.953125e+00\n"
          ]
        },
        {
          "output_type": "stream",
          "name": "stdout",
          "text": [
            "2024-11-07 16:42:16,358 __main__ 0/1 INFO :: Iteration=581, Time=1.134766e+03, dt=1.953125e+00\n"
          ]
        },
        {
          "output_type": "stream",
          "name": "stderr",
          "text": [
            "INFO:__main__:Iteration=591, Time=1.154297e+03, dt=1.953125e+00\n"
          ]
        },
        {
          "output_type": "stream",
          "name": "stdout",
          "text": [
            "2024-11-07 16:42:16,404 __main__ 0/1 INFO :: Iteration=591, Time=1.154297e+03, dt=1.953125e+00\n"
          ]
        },
        {
          "output_type": "stream",
          "name": "stderr",
          "text": [
            "INFO:__main__:Iteration=601, Time=1.173828e+03, dt=1.953125e+00\n"
          ]
        },
        {
          "output_type": "stream",
          "name": "stdout",
          "text": [
            "2024-11-07 16:42:16,454 __main__ 0/1 INFO :: Iteration=601, Time=1.173828e+03, dt=1.953125e+00\n"
          ]
        },
        {
          "output_type": "stream",
          "name": "stderr",
          "text": [
            "INFO:__main__:Iteration=611, Time=1.193359e+03, dt=1.953125e+00\n"
          ]
        },
        {
          "output_type": "stream",
          "name": "stdout",
          "text": [
            "2024-11-07 16:42:16,506 __main__ 0/1 INFO :: Iteration=611, Time=1.193359e+03, dt=1.953125e+00\n"
          ]
        },
        {
          "output_type": "stream",
          "name": "stderr",
          "text": [
            "INFO:__main__:Iteration=621, Time=1.212891e+03, dt=1.953125e+00\n"
          ]
        },
        {
          "output_type": "stream",
          "name": "stdout",
          "text": [
            "2024-11-07 16:42:16,578 __main__ 0/1 INFO :: Iteration=621, Time=1.212891e+03, dt=1.953125e+00\n"
          ]
        },
        {
          "output_type": "stream",
          "name": "stderr",
          "text": [
            "INFO:__main__:Iteration=631, Time=1.232422e+03, dt=1.953125e+00\n"
          ]
        },
        {
          "output_type": "stream",
          "name": "stdout",
          "text": [
            "2024-11-07 16:42:16,636 __main__ 0/1 INFO :: Iteration=631, Time=1.232422e+03, dt=1.953125e+00\n"
          ]
        },
        {
          "output_type": "stream",
          "name": "stderr",
          "text": [
            "INFO:__main__:Iteration=641, Time=1.251953e+03, dt=1.953125e+00\n"
          ]
        },
        {
          "output_type": "stream",
          "name": "stdout",
          "text": [
            "2024-11-07 16:42:16,696 __main__ 0/1 INFO :: Iteration=641, Time=1.251953e+03, dt=1.953125e+00\n"
          ]
        },
        {
          "output_type": "stream",
          "name": "stderr",
          "text": [
            "INFO:__main__:Iteration=651, Time=1.271484e+03, dt=1.953125e+00\n"
          ]
        },
        {
          "output_type": "stream",
          "name": "stdout",
          "text": [
            "2024-11-07 16:42:16,757 __main__ 0/1 INFO :: Iteration=651, Time=1.271484e+03, dt=1.953125e+00\n"
          ]
        },
        {
          "output_type": "stream",
          "name": "stderr",
          "text": [
            "INFO:__main__:Iteration=661, Time=1.291016e+03, dt=1.953125e+00\n"
          ]
        },
        {
          "output_type": "stream",
          "name": "stdout",
          "text": [
            "2024-11-07 16:42:16,808 __main__ 0/1 INFO :: Iteration=661, Time=1.291016e+03, dt=1.953125e+00\n"
          ]
        },
        {
          "output_type": "stream",
          "name": "stderr",
          "text": [
            "INFO:__main__:Iteration=671, Time=1.310547e+03, dt=1.953125e+00\n"
          ]
        },
        {
          "output_type": "stream",
          "name": "stdout",
          "text": [
            "2024-11-07 16:42:16,864 __main__ 0/1 INFO :: Iteration=671, Time=1.310547e+03, dt=1.953125e+00\n"
          ]
        },
        {
          "output_type": "stream",
          "name": "stderr",
          "text": [
            "INFO:__main__:Iteration=681, Time=1.330078e+03, dt=1.953125e+00\n"
          ]
        },
        {
          "output_type": "stream",
          "name": "stdout",
          "text": [
            "2024-11-07 16:42:16,915 __main__ 0/1 INFO :: Iteration=681, Time=1.330078e+03, dt=1.953125e+00\n"
          ]
        },
        {
          "output_type": "stream",
          "name": "stderr",
          "text": [
            "INFO:__main__:Iteration=691, Time=1.349609e+03, dt=1.953125e+00\n"
          ]
        },
        {
          "output_type": "stream",
          "name": "stdout",
          "text": [
            "2024-11-07 16:42:16,961 __main__ 0/1 INFO :: Iteration=691, Time=1.349609e+03, dt=1.953125e+00\n"
          ]
        },
        {
          "output_type": "stream",
          "name": "stderr",
          "text": [
            "INFO:__main__:Iteration=701, Time=1.369141e+03, dt=1.953125e+00\n"
          ]
        },
        {
          "output_type": "stream",
          "name": "stdout",
          "text": [
            "2024-11-07 16:42:17,014 __main__ 0/1 INFO :: Iteration=701, Time=1.369141e+03, dt=1.953125e+00\n"
          ]
        },
        {
          "output_type": "stream",
          "name": "stderr",
          "text": [
            "INFO:__main__:Iteration=711, Time=1.388672e+03, dt=1.953125e+00\n"
          ]
        },
        {
          "output_type": "stream",
          "name": "stdout",
          "text": [
            "2024-11-07 16:42:17,061 __main__ 0/1 INFO :: Iteration=711, Time=1.388672e+03, dt=1.953125e+00\n"
          ]
        },
        {
          "output_type": "stream",
          "name": "stderr",
          "text": [
            "INFO:__main__:Iteration=721, Time=1.408203e+03, dt=1.953125e+00\n"
          ]
        },
        {
          "output_type": "stream",
          "name": "stdout",
          "text": [
            "2024-11-07 16:42:17,107 __main__ 0/1 INFO :: Iteration=721, Time=1.408203e+03, dt=1.953125e+00\n"
          ]
        },
        {
          "output_type": "stream",
          "name": "stderr",
          "text": [
            "INFO:__main__:Iteration=731, Time=1.427734e+03, dt=1.953125e+00\n"
          ]
        },
        {
          "output_type": "stream",
          "name": "stdout",
          "text": [
            "2024-11-07 16:42:17,152 __main__ 0/1 INFO :: Iteration=731, Time=1.427734e+03, dt=1.953125e+00\n"
          ]
        },
        {
          "output_type": "stream",
          "name": "stderr",
          "text": [
            "INFO:__main__:Iteration=741, Time=1.447266e+03, dt=1.953125e+00\n"
          ]
        },
        {
          "output_type": "stream",
          "name": "stdout",
          "text": [
            "2024-11-07 16:42:17,195 __main__ 0/1 INFO :: Iteration=741, Time=1.447266e+03, dt=1.953125e+00\n"
          ]
        },
        {
          "output_type": "stream",
          "name": "stderr",
          "text": [
            "INFO:__main__:Iteration=751, Time=1.466797e+03, dt=1.953125e+00\n"
          ]
        },
        {
          "output_type": "stream",
          "name": "stdout",
          "text": [
            "2024-11-07 16:42:17,244 __main__ 0/1 INFO :: Iteration=751, Time=1.466797e+03, dt=1.953125e+00\n"
          ]
        },
        {
          "output_type": "stream",
          "name": "stderr",
          "text": [
            "INFO:__main__:Iteration=761, Time=1.486328e+03, dt=1.953125e+00\n"
          ]
        },
        {
          "output_type": "stream",
          "name": "stdout",
          "text": [
            "2024-11-07 16:42:17,287 __main__ 0/1 INFO :: Iteration=761, Time=1.486328e+03, dt=1.953125e+00\n"
          ]
        },
        {
          "output_type": "stream",
          "name": "stderr",
          "text": [
            "INFO:solvers:Simulation stop time reached.\n"
          ]
        },
        {
          "output_type": "stream",
          "name": "stdout",
          "text": [
            "2024-11-07 16:42:17,321 solvers 0/1 INFO :: Simulation stop time reached.\n"
          ]
        },
        {
          "output_type": "stream",
          "name": "stderr",
          "text": [
            "INFO:solvers:Final iteration: 768\n"
          ]
        },
        {
          "output_type": "stream",
          "name": "stdout",
          "text": [
            "2024-11-07 16:42:17,326 solvers 0/1 INFO :: Final iteration: 768\n"
          ]
        },
        {
          "output_type": "stream",
          "name": "stderr",
          "text": [
            "INFO:solvers:Final sim time: 1500.0\n"
          ]
        },
        {
          "output_type": "stream",
          "name": "stdout",
          "text": [
            "2024-11-07 16:42:17,330 solvers 0/1 INFO :: Final sim time: 1500.0\n"
          ]
        },
        {
          "output_type": "stream",
          "name": "stderr",
          "text": [
            "INFO:solvers:Setup time (init - iter 0): 0.1724 sec\n"
          ]
        },
        {
          "output_type": "stream",
          "name": "stdout",
          "text": [
            "2024-11-07 16:42:17,334 solvers 0/1 INFO :: Setup time (init - iter 0): 0.1724 sec\n"
          ]
        },
        {
          "output_type": "stream",
          "name": "stderr",
          "text": [
            "INFO:solvers:Warmup time (iter 0-10): 0.05197 sec\n"
          ]
        },
        {
          "output_type": "stream",
          "name": "stdout",
          "text": [
            "2024-11-07 16:42:17,338 solvers 0/1 INFO :: Warmup time (iter 0-10): 0.05197 sec\n"
          ]
        },
        {
          "output_type": "stream",
          "name": "stderr",
          "text": [
            "INFO:solvers:Run time (iter 10-end): 3.312 sec\n"
          ]
        },
        {
          "output_type": "stream",
          "name": "stdout",
          "text": [
            "2024-11-07 16:42:17,340 solvers 0/1 INFO :: Run time (iter 10-end): 3.312 sec\n"
          ]
        },
        {
          "output_type": "stream",
          "name": "stderr",
          "text": [
            "INFO:solvers:CPU time (iter 10-end): 0.0009201 cpu-hr\n"
          ]
        },
        {
          "output_type": "stream",
          "name": "stdout",
          "text": [
            "2024-11-07 16:42:17,342 solvers 0/1 INFO :: CPU time (iter 10-end): 0.0009201 cpu-hr\n"
          ]
        },
        {
          "output_type": "stream",
          "name": "stderr",
          "text": [
            "INFO:solvers:Speed: 3.968e+06 mode-stages/cpu-sec\n"
          ]
        },
        {
          "output_type": "stream",
          "name": "stdout",
          "text": [
            "2024-11-07 16:42:17,346 solvers 0/1 INFO :: Speed: 3.968e+06 mode-stages/cpu-sec\n"
          ]
        }
      ],
      "source": [
        "\"\"\"\n",
        "Script to solve the time-dependent advection/diffusion equation\n",
        "\"\"\"\n",
        "\n",
        "import numpy as np\n",
        "import matplotlib.pyplot as plt\n",
        "import dedalus.public as dedalus\n",
        "import logging\n",
        "logger = logging.getLogger(__name__)\n",
        "\n",
        "# Set parameters\n",
        "# U0 = 0.1 # maximum current speed in m/s\n",
        "U0 = 0 #removind advection\n",
        "w = 10 # width of the river in m\n",
        "L = 50 # length of the river section to simulate\n",
        "kappa = 1e-2 # diffusivity in m^2/s\n",
        "S0 = 1 # amplitude of the pollution source term\n",
        "S_w = 1 # width of the source term in m\n",
        "S_x = 10 # center of the forcing in x\n",
        "S_y = 0 # center of the forcing in y\n",
        "S_t = 1 # forcing timescale\n",
        "\n",
        "# Numerical parameters\n",
        "Nx = 256 # number of gridoints in x\n",
        "Ny = 32 # number of gridpoints in y\n",
        "stop_sim_time=1500 # end time in seconds\n",
        "#timestep = (L/Nx)/U0 # timestep in seconds, calculated from the CFL number\n",
        "\n",
        "import numpy as np\n",
        "import dedalus.public as dedalus\n",
        "import logging\n",
        "logger = logging.getLogger(__name__)\n",
        "\n",
        "# Bases and coordinates\n",
        "coords = dedalus.CartesianCoordinates('x', 'y')\n",
        "dist = dedalus.Distributor(coords, dtype=np.float64)\n",
        "xbasis = dedalus.RealFourier(coords['x'], size=Nx, bounds=(0, L), dealias=3/2)\n",
        "ybasis = dedalus.ChebyshevT(coords['y'], size=Ny, bounds=(0, w), dealias=3/2)\n",
        "x, y = dist.local_grids(xbasis, ybasis)\n",
        "ex, ey = coords.unit_vector_fields(dist) # x and y unit vectors\n",
        "\n",
        "# Fields\n",
        "c = dist.Field(name='b', bases=(xbasis,ybasis))\n",
        "u = dist.Field(name='u', bases=(xbasis,ybasis))\n",
        "tau_1 = dist.Field(name='tau_1', bases=xbasis)\n",
        "tau_2 = dist.Field(name='tau_2', bases=xbasis)\n",
        "\n",
        "# Specify the velocity field\n",
        "u['g'] = U0 * (1- (y - w/2)**2.0/(w/2)**2.0) # parabolic velocity profile\n",
        "\n",
        "# Substitutions\n",
        "lift_basis = ybasis.derivative_basis(1)\n",
        "lift = lambda A: dedalus.Lift(A, lift_basis, -1)\n",
        "grad_c = dedalus.grad(c) + ey*lift(tau_1)\n",
        "dx = lambda A: dedalus.Differentiate(A, coords['x'])\n",
        "\n",
        "S = dist.Field(name='u', bases=(xbasis,ybasis))\n",
        "S['g'] = S0*np.exp(-(x-S_x)**2.0/S_w**2.0-(y-S_y)**2.0/S_w**2.0)\n",
        "\n",
        "# Problem\n",
        "problem = dedalus.IVP([c, tau_1, tau_2], namespace=locals())\n",
        "problem.add_equation(\"dt(c) + u*dx(c) - kappa*div(grad_c) + lift(tau_2) = S/S_t\")\n",
        "problem.add_equation(\"c(y=0) = 0\")\n",
        "problem.add_equation(\"c(y=w) = 0\")\n",
        "\n",
        "# Now, set the solver\n",
        "solver = problem.build_solver(dedalus.RK222)\n",
        "solver.stop_sim_time = stop_sim_time\n",
        "\n",
        "# Create an array to periodically save the concentration field for plotting later\n",
        "c.change_scales(1)\n",
        "c_save = [np.copy(c['g'])];\n",
        "\n",
        "t_save = [solver.sim_time]; # Save the initial condition and the initial time\n",
        "# Main loop\n",
        "try:\n",
        "    logger.info('Starting main loop')\n",
        "    while solver.proceed:\n",
        "        solver.step(timestep)\n",
        "        if (solver.iteration-1) % 10 == 0:\n",
        "            logger.info('Iteration=%i, Time=%e, dt=%e' %(solver.iteration, solver.sim_time, timestep))\n",
        "            c.change_scales(1)\n",
        "            c_save.append(np.copy(c['g']))\n",
        "            t_save.append(solver.sim_time)\n",
        "except:\n",
        "    logger.error('Exception raised, triggering end of main loop.')\n",
        "    raise\n",
        "finally:\n",
        "    solver.log_stats()\n",
        "\n",
        "# Convert the variables to numpy arrays for allow array slicing\n",
        "c_save = np.array(c_save)"
      ]
    },
    {
      "cell_type": "markdown",
      "metadata": {
        "id": "5JomMlCE0zyC"
      },
      "source": [
        "## 2.2 Visualization\n",
        "\n",
        "The script below makes a movie of the results from the saved variables. To run this, you need to have ffmpeg installed.  If you don't already have it installed, you can install ffmpeg with the command:\n",
        "\n",
        "`conda install -c conda-forge ffmpeg`"
      ]
    },
    {
      "cell_type": "code",
      "execution_count": 74,
      "metadata": {
        "id": "UIg5nOdR0zyD",
        "outputId": "1ca05235-eabb-4b29-f458-f5599f624671",
        "colab": {
          "base_uri": "https://localhost:8080/",
          "height": 891
        }
      },
      "outputs": [
        {
          "output_type": "stream",
          "name": "stderr",
          "text": [
            "INFO:matplotlib.animation:Animation.save using <class 'matplotlib.animation.FFMpegWriter'>\n"
          ]
        },
        {
          "output_type": "stream",
          "name": "stdout",
          "text": [
            "2024-11-07 16:42:24,346 matplotlib.animation 0/1 INFO :: Animation.save using <class 'matplotlib.animation.FFMpegWriter'>\n"
          ]
        },
        {
          "output_type": "stream",
          "name": "stderr",
          "text": [
            "INFO:matplotlib.animation:MovieWriter._run: running command: ffmpeg -f rawvideo -vcodec rawvideo -s 600x600 -pix_fmt rgba -framerate 25.0 -i pipe: -vcodec h264 -pix_fmt yuv420p -y /tmp/tmpbhlzorbg/temp.m4v\n"
          ]
        },
        {
          "output_type": "stream",
          "name": "stdout",
          "text": [
            "2024-11-07 16:42:24,351 matplotlib.animation 0/1 INFO :: MovieWriter._run: running command: ffmpeg -f rawvideo -vcodec rawvideo -s 600x600 -pix_fmt rgba -framerate 25.0 -i pipe: -vcodec h264 -pix_fmt yuv420p -y /tmp/tmpbhlzorbg/temp.m4v\n"
          ]
        },
        {
          "output_type": "execute_result",
          "data": {
            "text/plain": [
              "<IPython.core.display.HTML object>"
            ],
            "text/html": [
              "<video width=\"600\" height=\"600\" controls autoplay loop>\n",
              "  <source type=\"video/mp4\" src=\"data:video/mp4;base64,AAAAIGZ0eXBNNFYgAAACAE00ViBpc29taXNvMmF2YzEAAAAIZnJlZQAAabZtZGF0AAACrgYF//+q\n",
              "3EXpvebZSLeWLNgg2SPu73gyNjQgLSBjb3JlIDE2MyByMzA2MCA1ZGI2YWE2IC0gSC4yNjQvTVBF\n",
              "Ry00IEFWQyBjb2RlYyAtIENvcHlsZWZ0IDIwMDMtMjAyMSAtIGh0dHA6Ly93d3cudmlkZW9sYW4u\n",
              "b3JnL3gyNjQuaHRtbCAtIG9wdGlvbnM6IGNhYmFjPTEgcmVmPTMgZGVibG9jaz0xOjA6MCBhbmFs\n",
              "eXNlPTB4MzoweDExMyBtZT1oZXggc3VibWU9NyBwc3k9MSBwc3lfcmQ9MS4wMDowLjAwIG1peGVk\n",
              "X3JlZj0xIG1lX3JhbmdlPTE2IGNocm9tYV9tZT0xIHRyZWxsaXM9MSA4eDhkY3Q9MSBjcW09MCBk\n",
              "ZWFkem9uZT0yMSwxMSBmYXN0X3Bza2lwPTEgY2hyb21hX3FwX29mZnNldD0tMiB0aHJlYWRzPTMg\n",
              "bG9va2FoZWFkX3RocmVhZHM9MSBzbGljZWRfdGhyZWFkcz0wIG5yPTAgZGVjaW1hdGU9MSBpbnRl\n",
              "cmxhY2VkPTAgYmx1cmF5X2NvbXBhdD0wIGNvbnN0cmFpbmVkX2ludHJhPTAgYmZyYW1lcz0zIGJf\n",
              "cHlyYW1pZD0yIGJfYWRhcHQ9MSBiX2JpYXM9MCBkaXJlY3Q9MSB3ZWlnaHRiPTEgb3Blbl9nb3A9\n",
              "MCB3ZWlnaHRwPTIga2V5aW50PTI1MCBrZXlpbnRfbWluPTI1IHNjZW5lY3V0PTQwIGludHJhX3Jl\n",
              "ZnJlc2g9MCByY19sb29rYWhlYWQ9NDAgcmM9Y3JmIG1idHJlZT0xIGNyZj0yMy4wIHFjb21wPTAu\n",
              "NjAgcXBtaW49MCBxcG1heD02OSBxcHN0ZXA9NCBpcF9yYXRpbz0xLjQwIGFxPTE6MS4wMACAAAAP\n",
              "9mWIhAA7//73Tr8Cm0WXagOSVwr2yqQmWblSawHypgAAAwAAAwAAAwLa9HiTO+TU8TYAAAMBBwAo\n",
              "YVMRISAUsbwqBIiSFwOM2zAH7Mfnl4kAoCjb52TJceI7LMwtYO8mo1dXqalPZBOWairsF1cuClW8\n",
              "2qIbZjPp4sHlZSmT361wHAJWxCinv2uD7IEEjDLx/N9fBzMI8rze6JcJvioUCPbugZSCW+2RujFA\n",
              "lxeAbvjBHhoYiBVv009DlPzvssS4XAMHt86VdukzVizVDOTTLyFxq8/5RQo2LvmBRpq9ezISkAUL\n",
              "wo1ct1k0jlbzpIQV+C8ixKnXAyvu8kaywN9pRrQGPm2hJIHiOOI2WNC7npcpyozNVRTVMmoDOiUg\n",
              "jbWIkVy7SOs1rfNWiuToMyPK94W8O97MOwGLHaZ2g783kJnKKvetUixK8wjmeB0DlaTo75kgMUCQ\n",
              "bBgPmwAWvPaAG0TfDk2Np0FmcOuLtNjYqxnFsLWSpFFslZRhJ7ucf3dC/fkVCBqKVuaX2S6M9tRg\n",
              "xB8YC1nm6RA1xblNUCgvNRN8evx7KRdTEATDjm0YKtHjTi4HtzuT26ZuP48EkYokn+zPql8np3FG\n",
              "Io3wa4Nm8MIbyQBzT71le6EpaElowKh4X1xT2BgtWra1aqW59AjVxYaFxnnCkWjIFmFxwPJ2JrKt\n",
              "tr7N0WNl20VtxoqX0jNoc9K1L2xdspSn//W6K6rSQRm88z5N2HVzBjEXC0qEbytgo6E/uRrccabH\n",
              "CcEOq6sAztsBiaRKdcDAOdINCxnshplb1NcQSCRXNLyPAHt7Iso9gQ6Q+6Naw+xyS3cW7pc6dOHI\n",
              "6cI1C72+ZJvbVa1zKyqFsJml51+qkN9IYGNTNR3i8aPzHjkutZCeeN26n/6Tqmewg86r4QH8HTqD\n",
              "ysOchUc5xmsePoqBuP1eA7mcReANwxIWBz/532O4QZLIRDUvNsQPZ5G4pDzDJIxtx7YptJZXnPxI\n",
              "AANtzY3QkGpyzs+E6zpeuwsLG4aVQGaZ99CcWQuyW+RGj9ORKXeRrpN4f+MP1IgRi+4YUcxZyqgF\n",
              "Cqm64moeL73ngIqTFExXRvVBIGS9CKXhcuEQnotxVuS3/9OABpqufPv08tbboqe6PYV32lPo6FUM\n",
              "IYgmd4nwfafwThVe0ToVZ/RCHgncftdVbsF+IVheEwd6w/hGqw+qKXk8/bNWb14VedStI0AIQtAT\n",
              "/FB6+yFgTpeRqdTnT6G9VTYmPwJua8JgGn/s74GdZYeKaMvU11xG2W63siUPPvxGXTghErzAhNq2\n",
              "M8om7nYy6lZZ6PkYVKfX96kfi4DLQbL7qb7xJfElt7JdXwzm5Gr+Oh1Wp5mAiJxmFhdmn33FwwJe\n",
              "vSZE3nYDWrAhbyU0DzG2gyEQHtUimRPE2I69ZHjlbqBIsiPJKpKSGc1kBCY+I1Vj8sI5rSb8Xn+9\n",
              "R9j3uxuuI+h42nwq+bwrcI7UIay1tg48gIHo1iPz9vIebUxCvyI9gUy7SSuz+4clWTCM06ZqKnE4\n",
              "JinxX7zbLOxvtEHLu+yDrOY5wk9mYzg6v4IUF3BiwtLmgz74MksVpGAZuZnLYDW4soNpzFLkqd/s\n",
              "jNCJP4/9yGKpUE/mC4Kza33tsfw+WImnF7dBdQtZ/wDay/SFhFDBFRHNT3mHsyzn212bkLiHc07F\n",
              "ADc1yuE9xiqKILVZi2pkzpQ4t7iGX1wOwf95TySl6DyNHUYgeZHqdASjDGjOTGC9G4wFmtf3Z1Qd\n",
              "AmxHk/KKD9P1WLhfMsweTJenTmQj9sQsSVSu0YM7oBEi1H1Ago8JfarwZA80iRXWi4HYQk0vX3Ww\n",
              "2L4lUA5Pe3OWahYIWG+VkYqsltLXI/5h7DeTQ1Ie5aCHaP258cUdy4hkeoRDyFF0zv4yxBB1guj0\n",
              "HapaO7xRPUoHX3pu5W/2eDD8VpnVi3orcLDd3F8TeVnf9dmrB75JKGC2VZWMGvOXJsYsmvu2kiPc\n",
              "kelQEGmJ3/2MGb0jo80HkAt+z8fBX9NCm+N4i3rv0KKXKJmqGsrrz9li+urAt6GzoWGE21f12y2H\n",
              "1XUVHWuJ7r/mUFvmmgODfdPHmNxjnEjtlw9ux7h65MM6vNL8WwYGJLNjz+Q4gBdRgNxFfKzI4SSe\n",
              "BOFUGlrnE/+UuSbd3Jb2FY9Z5uUOWcf+mSHb7RTao1HSVkaXJNmK/89HagW6LFWhmkv5QOsDwMVE\n",
              "joo1rW7ndEziY6YsOsho264YelUelKcJ+vpwgHLtC9sxHnMA/MOXFQGjcpCGRdFdlUplDzgYZlIz\n",
              "AwNXDHe31lVAIZ7fiO5y3IMBNsY1Ly44MYJlpegPsgAi1HRm88p64JCqfVmPLg6u1yOuX/h02wAz\n",
              "3ePKwUGxgAO6KA+Bhp+SFDETVtwZ9ICocMkWcHH/QpcsDY+dxwAbL7qoLhcLIz0/v4C66ce4W5c1\n",
              "C5Bjsnof9MwVpoL1+K+UyRzuynspXE3o6poucwjjXlrekP4OhAvtH1WRVTGPKIbc9rbeL9T6bDzL\n",
              "jNTivGBmWDuKaTvfitweBoAxxsl0zl9JH2hQszBjZprNoZRHTYz/pxTDwiCMwJZKsTSxeJbuf9zN\n",
              "N54RlCzIlZ0NQOw3Xydlay1kxaSd591fYBtGRbybz/YxfyR62HHYyugnJ4cHLRKSywbNvbdbvyaP\n",
              "wKJ30nJEUuJYPzhg8ef10iFLIfNMUda3Yb3JGCWWGCx+sUEYtt3P/dNwTjUDipN18ELea5RqjBVE\n",
              "LR27XYWk9WDs6a8+B1BsklP/BKwF68e9U06WeLfT/kxLDM/TpkVpGMyoqwp745lPsneo8XfHxW+V\n",
              "dZXDewpZCG2kNhYxh/ScW7C8aanFfc4tuvlMQ7aXofJC4J3sCUGwJ1LbP/4/cslWpC49akpppIdw\n",
              "8AmUakTlm0aVet+XKt/zDvpqlKVOp5w8Fh7910c9QBF7MZQPITSq+wr/9sUAr58XiV1KAABYWZBN\n",
              "xyoAXb8zN006lH093BYCZj5YruLRQwV/SXL5Ozm3J1cA3F7dgBDsv4GIzmEisYMsmVwALQcU1eUo\n",
              "6vtsk4ULmuHGIJIjYvfI9tT5kpc03+/C0HBx7oPfisG9xbfS2ihs3xl3j+5GbIDqm02YSdok6sWD\n",
              "OrysiNYwvE60LJFg4hXOd4DDZoAjdiolvvQTOCNAZUWNE71WG984qNjrRv0jHfNbAHHhNJU3mPJ6\n",
              "Rn7gcsHtMMWhf4PZcCMxL66CvYB3mrxoPuiH1z0zNzXfgAqlRAEUxRNznPMNuB34WG3EeKa58Zmr\n",
              "kR2gKLlkIccu9sbRWKPzQW4yB0djdUY+rrwf5XN9fIpB+9kQO73tXFQAfMTAVM/Rp3zrVs+Ja9Ez\n",
              "d7qG4rnVUOLbwK4635mHpXv8oAqsP8QuZ0oPtIoPmggKkBJ+rcSWgoRzjPTdTB5NllmKdFuuLJRL\n",
              "mtIfxjFnWd/QIeNZfHYD6UtFvijfvEKM5f3AAAOHjMxDF8awsBv8gsJmYF6Xy/W38pHVwaqzXrXa\n",
              "8jEWvJPUsSCGbkKhFIxU3wStTc7npEmgAAdJnhNePSWADUSlyf6frBUs+YpcovVOE+zyrEwaEvNn\n",
              "9XSz3+87dMQS0fVQLxcNbyeXE3fcrl+ULH6uzCkcMkmb6NbY3NqLm3+/aGdWPdTv7eDSKRE/jJ9G\n",
              "1D1VlvNwHfz8ugrWvMiEK0J44VQyyjv7sgS0H9Vp6Jh1gqUTz/Cb3tfWU1YQddpUkmVPc3IlxhyS\n",
              "MIEzb8o0omjwM9sKrGHOh02ltax2+iekcR0y6MJQU5M1pkB47+aK5RBwpwsK2hFw+RNvhyJwEr3C\n",
              "mUB/0KAbNCihpo7Y4Ept5f+t9qYIma1ffPGo+cTQRPuKVSR0sEfaIBwspzvrfUcWLmtZqa5XzbRR\n",
              "XeiJxmSTaadAdh/pv9ieAfBWOP18pxn6aGjnZQntKTPtY95jJMxIAnMt9Kbp+ekgwd/umKf+jJbg\n",
              "lWlj6UNja69E+0M4PtZROr84qiYLVbVUb/yMbRUFYHnIz4E/3oZV3Nx/8uURP+HRVEz5iOU6e/Sy\n",
              "4TDX1sE4xOdyf7oy3VH04H4XvKwrRcKGzF1JYgx3ybQ8GitZwAwaTCsHfoqtHK5ffYP3hkut8oyr\n",
              "Qyf12KSxl7s56aIHsFN/Pcd9HM/52a7xUcIFWLVtqbEe1ELXM1MYLXEr3+qfUSkO278vJl7iR501\n",
              "GOSZli1WDaeN8ivR9VOf6k0L1WU2a3MrzKaWKWALpJqDqgFnyM0mvx80uYSy7LUrA1IuEcMtvoZG\n",
              "kGp5/vpu6IOzo2ptSQgXxTuV0k9XXcDwrpCneIfOdLUgCSqyBotXvi1WvmOxJWH2vl0Q1FNx79mN\n",
              "bWAi1/+pump4ijUR6MzVcwLMf8A6cKi39YtIOku5v7SS5l2e+jkinLrGbkSZBrn4Kp50VJBGS5XV\n",
              "dbJFlET/TOOVII19x8bPdKQNLR3bpmrbLEhfzElIvNP+Ogr+VVTAOQFuWTwnnAnBlNt1RViF6a88\n",
              "iQKDXplhuEQk2/El2bbwBfBT9LN1RhAD2ZtDvCc+Tpl++Jxx34x7t1F1orsKNtisY4o4YW/3tczp\n",
              "yizehTsw78dl7BurScpnkl+J+53Urefo/zBiu+nYEttBWVCYQtWc7G4dFEqMhgtRsIuFMqCLlPyH\n",
              "6tWFKiGxd/Wrvw8EmNblos2YuK8PdF6GNVeRTGuRFasfcOc7vK3yxhKQGIizS6rcEkN9e4yPqw7P\n",
              "953pL6gbWQEberpkrzElEPOnYiTP+djhQZQPlgAZ+L6zYJhLi/xgk7PuAnU/h8A7HujwIAXLq1J3\n",
              "4OakBFw27n9QKIitOsNT+8HzZSZ9+tbxBnhCWinZYuIhptTYmg7RZbzaBr03nyKokek/GYOFin2g\n",
              "h3aEYv2QrxMCH1hJj5WjllM8eLaaqki86acFaBVz7yCxTttsnbGserV5wjbQGfou2EkpKDWUj0Hq\n",
              "T4vpESQQyoXdT1zcsgh56Y26p2JV78y9vRL9ccVFOLy1jcKShi2M1w8mYxBsGwKDhtK1yKdGZp+k\n",
              "Yhuo9di9jSHeveYEDqSKRUHL+XAG9HGmOWMdOUw9N8r6h4weE5KUBjxfNAYkxYkqgjh2GY4EBOYA\n",
              "MOewBX7IOa/zlItf1nt2wSGOM3sFftPKuoHfC5ulT3ZysfcxdmUGsY8jCSawY21Qavo5b+aGd/Ov\n",
              "RgbeB9aUzfvt0ABBvC0yS2T2RJP9jLlWnBHre20LleERvL8vTTVQ51Qwt9/4Q3DyMu8L3REE+Uiy\n",
              "up5ws5vFcPlgi/fMnMvVbqvjAWOa5WymOneP6Y36KSf0CllnDtdkeHExGQLvKhTmsPq1GCYX+Y0i\n",
              "dLgFjD1jxBPcGjCle71dYRwCu0bkVKnfJw/ai4zdV3s9A8qKUhMLZ8I85PeMUgU0sLWwGcCxMQpF\n",
              "rKFWNAAAAwAAAwAAAwAAAwAAAwAAAwAAAwAAAwAAAwAAAwAAAwAGZQAAA0dBmiRsQ7/+qZYAAAMA\n",
              "OkapwRLcNvlHAvzTC3GFipuriCuRaZdSBgAiDNGDUgE2tV7W9hdCtCc9wbyBw5HVktCAIT5mBcHc\n",
              "ynKgT15qr1V3CnMnLlxNEvR5/gBF8LKlEQ2U8Lcl9Tb2RUTch8yxPVpjycE6GN8NR4P/6pfef7dD\n",
              "w6qPtm4bZjr29maPwABYuPp/Dgt8yJDHPLyyhiuO9bS0Oo2rL1RWWdrqUz9o8bL7u5oL8T1HJ0ri\n",
              "CKdFVVlmVJKGTONJFX27H2U6R1qXAnPnC9bDE93M2Mr6YEzoL2sawXY920xfMzxP/dbl5fLdDSDh\n",
              "wM+vLV0AMHGqxIJbLy+nyCTNxlbjdCXlzrvZUWfp/q3LLolyVxFH4ePGn/aBhPxvrfOX6VxDQjRL\n",
              "4cAbC6e9FT7TuhgRKOOc02lW6dnWLukcUtKtDzfLzf1oOgj3PhtxQMWx2qxECHr+GvzKg7wZa1PI\n",
              "v72ZaV8tWBLxHaZkoOSlet/0h4KO81yLezDEq6qPy49ynijplhUOhoobcXEuLjUfVvaDsQjDJgxS\n",
              "WgB5TqhNeKCBzh3ovKNN2wv+hFIKdI/LB/sXun4T4y2upyORaJgMTrpQHaqxxKjvXKU4fkWQxquV\n",
              "4n+h2b3B1OUzkB1W9GZUXFjA0eKkvZhcfOoEV5t0iv6JRA7NKPbX1+YQJFWUn2yij+aqb6D/e0TO\n",
              "s2r2916ZzVtkzBEKf9OUhW7Cv2g9eJUdSQ8MVFsXOCIguQmpN9eym29V6ErmR+yoKzms/Dh1ypOc\n",
              "aEUWHhZhb6Z/+AyLUK7OuZJMS2pQUZcrRHRg4BErrBn/rOcwvBw71uvi94Pof/Ht5aFB5wPcl+sG\n",
              "TjBSfQwUEYpwFJpWSKUJza800o1cNW9oR6ZgadaklbnUrOK73iX8iJ7Wx7jP8b7gXHu/Z1NRBndn\n",
              "9MXX1KUw6Akbaxnw6bo7XRKuvP1AfVoRSEgeb5yezazVQYOiJoqFFVb3o4rrekRkXaSNLtKAzCix\n",
              "Y+XA6x/g34ImAtIIsLf6GN1Y5Jb4+KrUkeYMyqdZkTRRGCODnbD1xRGec62TDLaXqUrSLz6ozZ9T\n",
              "de6qQJzXdWkDywH3v+AFLoveC4MGWCkwVdUrUAAAAXVBnkJ4hf8AAAMARWS1VOkHzLK0LEtojgBo\n",
              "6O3u+ACcdssqeo2X2Iqxq8VS3IjOYs1JLztrJe/3Qn9C/vqlBcgZ7ZzLjbRmY+onEHxmn7ozj0Rn\n",
              "r4hbruc4Duk4zTn+I4nF0Vd0A5vjstDFwfogIcVJSbpct3XfEMwiesopWLyfC78fZMVR0pmF/bS1\n",
              "In1pbHmgDyFo9ttR1TpobOboHSxOl9WzQug6vx3i+eaGWk9vpcw7prVIQQMiwBHP+3K9vXJHNaGm\n",
              "1I7pDY1xCv6/j8MJP0wdUPXe9fr5zEmhqCKPw++8xu2mEysg/5AsEaf7WTFXAcHhZ3jQBF5QiXRu\n",
              "mYCV25VYqvp3ekOJeJQ5p+Yn7VlRDRU0Eys/gt36Lj8giJRUzRIqsctU0hva9noltGmq6qXugt12\n",
              "s0cfadOS4fXybQENrJ8eLi+XUD1be3Ykl5dOGUgyWtiyfBTfvqoUUL+53rrcx2jFJFu8Wv1P/IRc\n",
              "RYAAAGzBAAAA3QGeYXRCvwAAAwBfo3/PJG3pow8DCWbgAJam6ifXm87eGT5Y53dQy1tKMqKd/3zo\n",
              "rXv1s6OLXOo9VGIjKaTkfmWDX5gvwrlHsWJy24NrcGi+GVEzbxqdJaZptO2k7U2x9wG7Oif4JD1l\n",
              "OWwIZM2Aykzid+Ii4qkq219K2D7sk5HmxPz724H5cWenK7i08LPMnmRfN5PwcuHfefAhiV7hdMkD\n",
              "6HTDcZTk1XZ3MDsX/XWydEKYtPoHg+Gd4UBb/Q2QL+85JOvJfTtvTv6ondoY740xsOuIoXNoF7yA\n",
              "AAmYAAAA4QGeY2pCvwAAAwBfnQyoxjE68dPwW2EXUE/n4AB8FL7RCjCzY0wVxbTP5/NrczyFHiOA\n",
              "8Vr4oaSq7UK+BGYzg3i1BO55uIkWzYUBQG8iUK4wrdty5bobCltgVcVwPbEx10VbACy5+tLjC1HP\n",
              "wLz2d6TthUlRYWAZo9crhTkRhVFU3xQFrta4Odcl5007rwEVQB4ErP99x5pBLVUIdcj6oo1tvoWR\n",
              "/Ot9jLlI2gL/x2+ivH7sNmggcXMcXbTucFehGGuXkdotb1skXZhQyQZmbiaC1ZqDOCm70urt+Ar1\n",
              "kAAFBQAAAtlBmmhJqEFomUwId//+qZYAAAMAOkOFMA4p6tGPkoXt2TwpGrYFHFpnvPgMUumTuAEu\n",
              "S+qlcK60WdZtxBMhjfo8AWJsayTnCx3WRRB/n7/j8iQ4HRkways5TA0WhWBIlF8sbiIFWYhfnA3P\n",
              "LUwcwvncwzmf6lNp4dG2+GkQixDQzuYUREwt5x0WVvzS7SVieow6FUPh1LXTdlOKx0nnykzH6UyG\n",
              "XilEk88nhTJH4GN6BwEAYD3cdfckR40FdUAow1UKgU3R7QjJwI8HT0dKl7xdu+tmQQhQXGsnWLYU\n",
              "tYPutvZvvbDLy26TGDHD+YqR6tv51mGfik4G9q/bXnewPdwG/RGRj0Do36pMlYS754Fx/V66AblA\n",
              "v1iRKxtYn7LlP8Eew/SMszgkEfzGextaBubd/UO5WNM+WQaX1UEkHULGqB3SXCWKEdibXM3/kZkr\n",
              "PMuy6l7iDSMtaqZqZLq4WN6z4TmQXMguBM6+35wK5kN50u/x9ddxGCZOi9LpZPN3laMPqyfsHNrj\n",
              "xDBGnO82NQMmdIvwff5d9q/s8F8WlweTWEI/eIVCWoZ00xKu7DnOGz1zuX/XhR6sVus2pe1nIJEB\n",
              "FX2vq410p7toVScvxLR3/nZtdstzeNJTf0J5X3ecxmumc8jFyVXxShOm5e5rm5fr8DeyEL/VrBPW\n",
              "z6trKtA4PS91ZDEAo/vIZNWB5i7trLuJkKRJnRuewkSdpksGKcy4viBaUQifu/z/3hC1Aqwxlu47\n",
              "3PTHs2ou7mWBvcyBGwX/pJ4nfxlRS2OwQuzFS4Y+Hs8cTD8+qyYrK/fGnDttqbWFTrPDtr1MMYsH\n",
              "muNcfjTpmQVCnblXieWdEeA6kgW0a2BBJuqBbzDxmINdHl7Xyvh8C+hXy6ujilPd31I7HpB9SOtV\n",
              "h+q3zSaAwD/zzgX6IgS3LmToH5b8rfja6An5BjKENiGj14h1g+U1YwoA3sJN51OOOsvsQ6EAAADV\n",
              "QZ6GRREsL/8AAAMARXzghFBWzwITRGUVCcQ7AnQAATss/qa1yq5hYcosuoUs4t3sPwVqSwXTKSsx\n",
              "WhgkBIQauAXuj1JnpifQI/JxJtAffSTG34vzNZ2nBBTW3gmv21HP7c66vpxufhf9EbBYx4q/S/os\n",
              "qcRv7+/72F5O4/tUil3RQi5r4jUuRSX9Sw2s1gLFO+Bt8+Ql/LBH8+ZwQlZmpaNHrfrwjMXAPQ+Z\n",
              "XHShsKu9SsTZSrGg9WgF3PmxWZW70+uCGRLIc9A1mapHfP+yERAAAAi5AAAAvQGepXRCvwAAAwBf\n",
              "o3/PJG3pow8EBn/ABEBonS0D5wADltRxx/+7UVyBfo5Lrky6uideegpCPGkDNGX8TmC0p+n19yKQ\n",
              "jjMYpvPAWisVBYqnLiDaFIe0nvEqnVKgCRyu1NsG200ECE/7S3JlSAFGnptsmD+47mOR4l3SWIvH\n",
              "VqMVBSGaa6Hw0SL4I2vwwyEsrfE85ynwaI+Q+WgJ1raK6/MAQW85ZNnCbcmf7TcWiHoe/aar8oK4\n",
              "EbHmAAAK+QAAANkBnqdqQr8AAAMAX4f7rYnRXrlW+RzZABEHdV8vb9nVjYPF7b1nqhwFqYdFhWmC\n",
              "p3j/QHnORztcrgNVUPzIyprndN4dPQYHLkl0xzuDinPPnfovjbOYBi70TZxMGwnIFlWVXVBjtqfV\n",
              "3cZK8/L75ZcnM+a2FGa+xgYFyb48bpUPKwVK4HmVwMTm66H/QCTnd30sY54egqGjophrVgiDFywi\n",
              "qJZrH6/DDelVBgnqLosFfEcbJCqtqylxsIBX2bnnrW1L4y9bfZKBMaiGWe/QRUGTe6ZB47OwAAHh\n",
              "AAACBkGarEmoQWyZTAh3//6plgAAAwAroo1IvSgAhK0j3zChkAHpt96Hav4igmQZMknun3m4Vf+8\n",
              "Aew48eA2D0YfZfT5hKlmxJo+5Bi6xZ6oIa5mbvZqOwTXp2h7kwcjJavDO4Q4b6f/f5TtE+7OtFOZ\n",
              "+Wx/WU0BQEJIAocdhmn3otp7pDmoqdBB8qSxKQh3L70zZY43H5e/DyCEyPvfjUkHsNgcZ/QZ6c0y\n",
              "gom+VvHM/o/V7tBB7LIxX5Nx/+mLWulMDfkXzeOpzg4DdOqnXjXYwiuIrTFCAKkzCppFGHm5rwHa\n",
              "m4IHHCl+mteWtb9kQ2/gE5t75XEyc4ge7dDqQbRPGRQqAWnt0kujn6jo58f4mILarGs1MyCgDmgH\n",
              "j5kGDhcoCJtlqvgkeRSPw+XFq8PPJ/Ztsi4EYiP1xN48T2ndCd/MUZT29O4ae9fWYyGd2kyvseUx\n",
              "8v49GSdlKqNV9kiK8aX/ZDp88zg4tqdlESmalZ+6PLoGlGV+A284qb3we6jhVawt3TW5U+wbZz4l\n",
              "Kf6RXUwL7uRv2ZX7aL4PCW3qWqTO9DQKEQCJ1T6wPbVhMzzXfLVHh7JFHSQpm8QnmPYI/3cpNkkB\n",
              "LlHuwiOmkxgCiwzXZOWBzpj5DMgOPi2B9Y/3hD/kkIRv+Xc7pL3lXdIuOd1kX+Qap7WTWf4u2AEt\n",
              "tZHFnCS/OvxIAAAA8kGeykUVLC//AAADADNy4B64ATJxQGVdTGOEpDCsepIAUQKT1Po+yrfTT75i\n",
              "IT6ZDao7tDzytRV3BwE4bmZiht4v8yqyawMvIizplMDY0N89z09BmgnbZb6TyMF30snZTQci22QI\n",
              "XZqMSlNk8Wh0zAcRUKF4rYfBDl3JP78Ye53XJDKaDCfQyjTQWQ2xuvzuqE6RtOtUM8Lm9oC2hijk\n",
              "71COf8CyyDmhH4OiyD2eoBbjXxJz2Mdk7ClTF7dkfZ9Dev2/FSXmsi8FVXfBJKP4ZVw+vQxDdhtU\n",
              "hpZI7mZvRwTTVktzYXsoChPKL1r9XlZAABJxAAAAlQGe6XRCvwAAAwBEexEsAEKI8wbR8yUE1u9L\n",
              "axEi+4yL2WOzBb2t9XMcJlLctkOFwgrkEnMkm2AfPbow6TO+eddJIaERBpL8GK+im20WmH0gFaLu\n",
              "5AQtuCC1ziONUxdU1nJJdkMoAK2sVf6fgNhO4JJaExGeEf8XXR5K3bBfxJ4DmxBdFadNLiQtv6GR\n",
              "x5OQBQAAAwOCAAAAkwGe62pCvwAAAwBFSs/vyAA2gatdA7iagtBF+V1vBP0hc9CYp2oumX/IfyHL\n",
              "eCHB9IAkABXPkFtGMxx4A7Kh4b+5aaGR/ebBMzlIFDsOuP698/WNOy790RPc1ErCsBXFUkqWbGKD\n",
              "OqGaOZXP0GzQPcCeN+R54MxpUZ5NwNQeqtZKkjsxphrtLQ6HQOL8IDXCtgABFwAAAeZBmvBJqEFs\n",
              "mUwId//+qZYAAAMAK4yRCoAIURx/OXrUYqaxB49268y54fvloHIUep94jRFU2W+uq/i2jVwHbd+J\n",
              "cNjj3XLWNRtFTocz1Wshc6yv1ubJpMma3209FtBoLN7GpnlOOgCKVCCzeQ2WXNG4v7eCm84OcyM5\n",
              "DTXbL5xXzhVw9DxJrd2AVkTXz9HLfZdlTz8yAOteEwVmu9lTEtZCN8Xr0OQrcs/sM2TeA8QJ3eY9\n",
              "5AfF3k8PdQAjobdPMfOG3ZEYNigbW5QE0gFOLzre1l8U/rmPdyIKATb5Zbc8qKUrUmWPnsYgcStN\n",
              "01QRKtDdNmA7JViFsLDZ5m3v/ZqwHOC65vcNIQQDDhlLl5p+bZXOu6MelxCYxVCQyAA+vNfs0bA3\n",
              "BVjqXVugRsyv2gxo7szXV0YZ/gZgGiabS/ggy3RLydn6f9tSf9+H14GijSe4FfzK9Qioq/9dBs7B\n",
              "LKEL1LJyo01R4Ml/aIEhs0kgLvEy/UDLfrX1sdAII3njEWIqAGyx/9UX3MRfEZo5wpT5ew6gWA+X\n",
              "F9JcmJNA5cffJeRTHDkbQV63RrpfB5Vbn9hIP0MXBTyh43Ad+Szx8AAp7+IBkTRov3c92Rf1KHlh\n",
              "aOew2fR9CHA/NcCnNZrk8yRx5YCcdxkAAAD6QZ8ORRUsL/8AAAMAM4rmQAGxhWU4yB2Tvu4JOZbp\n",
              "K8BZsYx1SFHTRIwDxEYQGqQhQEjpXTUq81Vt/rE8TeduP65zIUr7FdHs7fndWUgH+jVugGgsC4ir\n",
              "Y87IFUKQLbjGwHQanLikJdLxomxxPABktI/dmJVT68OpCKYccZGiCNFlGF5wwIRNruVsUj85UDow\n",
              "trMgFqajauOIjXlTfJmOCky3TGnkIM3PZXc0NhXUr1/M1AH+Px92fDhMfFhSETYSebx5b1re9fNP\n",
              "2zzt+IaT76WnDcr2+r5BGB/LZmzYIYy3XdVVG2H2lNLrVINaz34u70M0EsMAAAMBIwAAALABny10\n",
              "Qr8AAAMARZ4iAE1ZyRpR+yHM8tYrobsUZm42LVGhanEKP2pmbDv8Drxex5RU8nB3DyzfIpD4f8lc\n",
              "bqOrlQyOOS6TjEvA5QYjolTCeqL/bXPXbbKQz11Cg5k5u7eOQDj94HcvMgkiNR8HOK1i4LEanVn8\n",
              "lXaVqY/S6cahulOjIzu0ATmQ6JHouZtIO5pAgd0ZKcZLZKVDmH43kU5jD3ZVyJiB24/2W24AAAMD\n",
              "pwAAALIBny9qQr8AAAMARXbmIAP2h3tZ4upB4PbWtGj1AmE+xT3yzTAbdm3HDALhFqTeU16zlGoG\n",
              "uo0SYog5xJ58JSLTwVSd9VD7zIVNaCXC4yhRwV08HlkV+izOEplyegnMt7ioLe4EKPfOwvVSJ1XT\n",
              "rzVm43+cAkxVI4SkEYGMBCMQmyy9Tbs9rjLgXTwhRFvkLm+WmQvqQWotsWmwEBdLzUHXjFaStv5z\n",
              "PxREj9zmSBAAAATcAAAB2UGbNEmoQWyZTAh3//6plgAAAwAsrI+pSZVaABzi2tRzJlexlk3mCIxn\n",
              "Bt+18PtcVSDO1O7J4Qw5CMEbYaUe01jfKMjwsV9oo7v2HxcqyKMXlSboC6FG/YcVf9qRf6KKBCjn\n",
              "Opa+rJ84pbo/615+OJZcCz350FtJPqRQdUKmdpV2L9nXcyg68JTDXTgPyLMKVsn2HVwzSunRjOnN\n",
              "T5nTtAI4N410D/JX9H8P5myeDJssz18TJ81q1SHxA2A80okD86LsV2Fu0WUfU7yT4WmYQKsW1tcq\n",
              "vJurPRfDoLXeXV6pObHtKxVkQW7K2a+cdVK5LcIVRTOhKl0XjvJPYobfshWaVyS2HWRdSPiUqSNW\n",
              "vx5yWRJC5JE8OBlDUVcWrwpCt/0vFXlXaI+a30ItEEvD2fmG0Tcd5P6Xp5EiNyJabJV8tTkLupIL\n",
              "lyGHL+ql05IiXXlZvPIrd4QTR/p1izSWx2KREMqDgEGNZBsusmTNynNt07FxBHnzA+lPqOZSmkbS\n",
              "awfOXiKTvySm0zkiYExPehcaIV/eXsRgo0Mm4JmM1x+auVpPNNklQQjVu+O+B2vZde7vnyQV2q7/\n",
              "Ek3wf528HB3d9XJALKmlnm6Ey3Sr2K9qi9dWizUgAzogAAAAvEGfUkUVLC//AAADADNGQmdwAslv\n",
              "eZvN+N+UZVodN5FMf8Mnvta98OwG1M/DQ8+6gZX5g6npf/hy4FwnCtDmXsr0xXbVE4OcfcTX+ZP3\n",
              "XFQ6pceO49teZ7kuKTmymJ4acKM2an9YvJ1BYdU+HnX09PLAA/DL+JPebdLBWeAbLJ944FwYvpdR\n",
              "VblAvClAzYlg/aP672qYLfNEjCUskaiasKNo4im2/+INT5BmoLp2n2ZKdLvsilQhyAAAAwNnAAAA\n",
              "sgGfcXRCvwAAAwBFPrU0QAg+iLVgwigQeo17guJzi+5FLJICxGZFfMt+gm2SHg2b32tPyaZsy5ex\n",
              "8K+CsidvR4BJM+Ym85F9bD3kES4WDlBdvB95SxAzvoVl8yvgVqavzdAUnPgyzJtlW2ZgOZfew9Vh\n",
              "s19nTtO6f2ryhNuAf7VAhkX5L6sLsRpH4G5QaH1B0qFTeoIL6p5Aam5nh5S15Rbc+cbd7L6/HHqY\n",
              "T4GuUAAAGZAAAACLAZ9zakK/AAADAEVJfWEABr7Yb4hg25lIJq4r7ZWKyuyyUfv26AZG98aNU1Ey\n",
              "aECIjnZWKGbMf85vKbjnONy5AhsAJj17cHcMA4NVzTytspZwlDP5ms5KRBJahy9S/GO/48kBZ6Jn\n",
              "ANF/OMYVYiaB5HjpjPAEArsPa0uViUHEai29f4zW631gAAAMqAAAAdpBm3hJqEFsmUwId//+qZYA\n",
              "AAMAK5p/tOOugAaCUcTwC/bZ+ep6sBoETFDZeDn5cKVcdnHg5tdOmOD9Hgj5mYDqCNvtHhVTvv5w\n",
              "k/f/uCDS/l53Zhxs8d1g6O8GGh1YfZ3X9yVNW3Hyciq+IUkktanq9bxdhX0ghsOkNpZq0k/lRta9\n",
              "/8R/6LISy+e6Cuc6+CcGTLoZ2PXlaEpjS3IkPLJwHn2Nzjd2m52qSxt5rvst2KvRv4x046gwdNqo\n",
              "ah4x51j4R/zXCdhT+2YGO5cFhC8Tuv2yn8ZmgWTnjfVGv8ThuF0F93A0+dhx9Has89WmOOjGZ2FN\n",
              "K28zmGHh96O6KzUNlVA/wOU1DlFBU+emzn7MtNK2Lb2+/4u4BFC7d4H1LxDu2x9d7Q+NS+91IjYT\n",
              "tpXzzIsky+AQTQ+BRuaN+bGVR7QZY0MC93/q9nF3WOxTGTS+Tc17HBoUmK6Y2VgTMhxd5Sc20V+S\n",
              "E+Urr0Unpr8pJLBfarlZsQHVWCHqw7JSSa4d84Xt2oAdb/b2U3NxzD6UjtPiWa/HH3UuQstQWapn\n",
              "X7pVPAnnn32OCpmKQQus+Tpo2ZkK1Wyreyvg1GMkKuvCqqiP/yt6lVYblL/I+qB1NKxJU6CKNesa\n",
              "jiUAAADYQZ+WRRUsL/8AAAMAM0NmWS6sAGq5tMm7dESiBlYlqixIzl2KRmRqbpr2ahiEmgWPZcpA\n",
              "4mykeNwt00CC/uA3NfmK7icd0qVevtosbV5EDWwU+u8hZfnSJFCVS2kAOGMSTW9uPs/YePYKqqTD\n",
              "iaR9/O4wkvw1AEl/8abYVtAJZn6m9d68B2VGudxFHSkgMSaAJZTjswqCJhAAMqCbk+VQC5BwtMJR\n",
              "huMFcqNbIQAFwX9XB+sb2my1d+Q4Ict9j+UfzalsxJlQ2BVp/uu6aKE2pQr2CCAAAAoIAAAA5AGf\n",
              "tXRCvwAAAwBEbPOEiWACH58jxPdv2RPQvsWiv4kA1UHs1yOZRlRmv5zX3bM2PjRqmol2mPewCnvI\n",
              "lHPDBvganzo6JNJk+obbuI85w0GvGYd//rpPS3oGfSVkUlotGiYo4FZN9NyQl3cH5xJCzALG4fex\n",
              "2SEamvFtWXtF6kcqqcKKxaUR7b4celoI4pvnGYcqgsLbMYEFoDt1e8irnYITr6AprEojR239Lzyx\n",
              "ukNuj8h+zEbV3VVKhtVfN0KKT7wkN6or7eYPSpr19RGotdFyepu04Fcbaf5SmUp0rC+YAAAV8QAA\n",
              "ALsBn7dqQr8AAAMARZ4iAE1ZxgBuuJ4q77OsOqrK3wJh9lbDs+0usomrrIPTv3l/ZPIqJHO2+pXy\n",
              "n3dKiXnnnD7lbLwYzmb7xZoIZcNDKnq2X6g+XCMM8+O6j2EGy7BbosfZLvI9RTZGUq/gAVswP8oq\n",
              "R85oJGkAXzMtDdP7tOHhhCWZET9xUBwmg11V6Ga1hm1N+/l1/CMa8Vb+/zt1sUWhChuhL6bZDIep\n",
              "wi1ktm/8OSrD8Ld01oAAAGVBAAACB0GbvEmoQWyZTAh3//6plgAAAwArglbygAEoHUMPXcrvBnaa\n",
              "EjYTxPmDBcUZCpbkgWiTf+vuC0sUFjMQYS5Pncqkrvzy1HDXtCCcfnd/OxOjes/gWVT5ybr2VPDt\n",
              "VdMRna5pdnPEdzfBAcjYogbc9rI6Ncro5U4i+FClWuz0X05YUY9dVBohJsOGj3X44qa/LI11g4XN\n",
              "zbCI5IVMC1N0Rw5FlYjvAVauwZ0G7cNTzGdyAP9VEAjRvbYknRwZzvGaBNrpMm1LpVKJBK0IpbcE\n",
              "uPiygAXJYd+kwipOyfXbd8f/uNJzdmX2U+orcfIQK/GAe0nun2krYtFfhDGjTiNIWd+bKu6F1Bqm\n",
              "SrJmnk1IvsNuACfRApvf3tUuEJFOLvI5hhmwMpdtybmc8k/nS8Jzh15hDd/plPyxxohVw1IAFy48\n",
              "/eCIxOrIXO82nqFPNPWBsf4GIqw+LRRrMdyCxKmYVUWyUujK9cB8DXIfEcuJioJpF1VBZAXY7tP/\n",
              "lhOtIHrUE5g/CIWEvhcTX5I52RFgZuITlq9qcCd3fSOL9yYcjca3qB6aY6jFUsjzj95KIairv//3\n",
              "suUPXDc+eNJeeFefbIirtdq3+MXFmzSz6Rzttn08wfAln8pgkGtbRDqiZ7XoU1n7ybcW32JqY9oH\n",
              "vNvZreu8kG5ZTtSjl/Ff0A9DE2gC8Zgmhbg2WAAAANBBn9pFFSwv/wAAAwAzU17C36wAbGJvIvvH\n",
              "vnPA24oEI0uvG/7NM0XtPAIaSq0RrGTkEhn/y5wq3BLd6DZrSU28B2JJaXUmMnp/Ml4jfT7ZfQRV\n",
              "rFxaNGDzDQFPrHU0U2H5r/nETEyqfi4BR5EijuN9DgNZRK/8kzGZSIB69Fg/nNhm4wCxJt17Nb4B\n",
              "upidyvwn4TEhCifVmRvwAzuxM834VeRjG5RJDaNRQoVvOwgRVnJjQOXrHOTijV9FtP33p1BtT3MP\n",
              "I62g+cb/Qw8AABLxAAAAtQGf+XRCvwAAAwBFfe8ABqo3E5Zj53NNsgM3Csh9LR197Gc8sMc5Ahf1\n",
              "EkSSFh6oYkBeFBdn18HwiufTXxZO1o8g72WIdHAWuY49DoUVcwyLs1GkTFCXOCpww0BMbXGkXurm\n",
              "nd94/euVES+QK9roY36zsFhGAB42XvpVgpAmSql5yztgQW1fUi60UWFx5JGep6khIlP8ygJUALoF\n",
              "xiFl31Uw+kSi/NE/7JFaMKeDgpXnAAADAb0AAACtAZ/7akK/AAADAERw5MwAQ+vjzj9JZoxwawsU\n",
              "DWG/Vhs5uuRx1ZRR4gJ+u2SOP0+MhLOQxkcOIbxMS/zsD5zeiN+wArJ1C3DOEFuwPkPTVyG3LspO\n",
              "hm0oQWqpNfTfDP4roZ5eS88+BWsGVrp8Qy3hcAeFfVs9ssP1LT+FvGakts3eGwKXynnern7IBUgY\n",
              "V6DMACv89QxXVeOMFh1cRHjWRFxXFRfJ62qmAAADAUEAAAKyQZvgSahBbJlMCHf//qmWAAADACut\n",
              "YkUoAPir1SeOokW51XTJrVyXyT5edTqvC1ZtG9jcHT4ZUZgQ+CPHgvPk9Cs8QDLvLrDshtx43bln\n",
              "PeqZcTDtlSyKdX5vrjBPV8Tc/qPahvSsyPTtxSbVYX01gXxj6ZY7YmEIzBldNc/83EqkFCYv4tSA\n",
              "4PRY8dJSJ2L1dK7waMWwWiHHOLZPsAjWB6vP3RdKAPMePSL+L3hHkpFF6cbESlddj5VAz6g2sqR6\n",
              "6IChSO+4u8xWS7S1/VTiVsfzFSsA14L9OUBk3g/qWkU97aUzpd+Hp/T0j307zeCujJud9Ezyubq7\n",
              "+R/VAdsxUII97vX9uV53oyqhAJj3Tr7rqKbF5m5CvtPDzTNfqBxCWQ35OFtDX+MqRNf1dZvxDGMl\n",
              "3LCKx49bhxmVSeXqHm2pLFugtFUUv7BichlZ6Rj+TjDepSws1SlsIhPu5Jt+LrFszF/1swKm/Cso\n",
              "9Z251VdEy256Io2nklciMHBF1wRcSmdUxPyd/5mES4LZJp+kt+xv0EJj4YxCQ5qjFgLjcQNWBnRy\n",
              "jNjw9wfEzWOrLQgfWg0bTIZiFjqufgLAfFtNOADavDuzwUWJgeMRYacgWeOn/rhhc8hZf0LUq7Zw\n",
              "tZydRGd2boeuwQM51+/51+FpNFvYrTuMKZl8qe+ETk5pvs3Iu0xLsNQMA7x0v7A4Y8HW3VflSI7b\n",
              "H6RH8s9OhWfatatsPRo+8VAzGhl0rgGgev4ILGgEsju9cjYqNGJ54ku3v9AMVPAQQdBPyUJdrVwZ\n",
              "sOWSEcIvMQZ0FPahQuoQvGRqyxjGm7S7X8NdpRS4ba0QQNIpOtpQj72yQMXxTbnRecE4/1Vr9L6R\n",
              "0dfsus32mibq41Qrz9Ej51V+RNXQ3R1117eYJHGFsDGi0NyeaSuFkKs9AAAA20GeHkUVLC//AAAD\n",
              "ADNoDFEAB9QMr7ZAPhNkUuuXqdRYf7+q9BV24bVrPmeg42WDL56RHrYwtC2fo6ZWhpfiTSWR7UBS\n",
              "P/c3cHxhYrrWWueT6fGMXNR25urxYT4yVuDNCuwfnZdmfeM35XirQppxDqg0mfaFvaST/FwdD0NC\n",
              "VnpzwS5aWCPfrI9HfivSEmaMKFgQGP8vioP7L+gdW0KFp0EQohdcMBcLde+ET0qYPhlb3Zg7WyTn\n",
              "vUm29HpnsnRP/yamuYneyr3sj8uF2pn6Wahtl2BfoswEwAACygAAALsBnj10Qr8AAAMARRoMG60A\n",
              "kABsX9U7WX30y6gDAc79Dkf1jybAV5TBXxqOTZP/1Y02MMQ7yARGZWVtcPWLlI6HiU9qCKXYIqAa\n",
              "td9tEl9sg1KC0rHB/XfAq/kTWz2hTsNerQNMAS/ly9dX8UnDtza6AetErX5e/bzLGK1njPn9bdp5\n",
              "furwqtHvAv8YVJxZdPw7JpYEKGcfrmMvf275WUbqsiddGXwo72YLPV1uv8p6dNLx1398AAADABsw\n",
              "AAAAugGeP2pCvwAAAwBFF2YprABD866rOo1KdE/e96M1gjN+NJ35sEMLjt5R4suO02P6ceDNQIWl\n",
              "ndfJZ2o4EJEWzA4Kkyj9fgUHdszXtxSN8OeQsZD18AejYluoBGRooUj3ogzU/sctSxaJpHLkGb6K\n",
              "O5x+h3fH3yhveqA4wxwatkqOwiIYWQjXkw10Fy9bYF3t0ZYQXtswzOsB51aQTgd50js3b48uW+RQ\n",
              "wAAd5aIKO5W3Ew8XDfPigAAEHQAAAmlBmiRJqEFsmUwId//+qZYAAAMAK3yFoAHYkEIbF9pRgMKi\n",
              "fSnHbW2nVtKOZndP0iOTkwgWpFs+6pQPpz/byLc8bgsxrsfDkEyfeOmT5Gn6i1Qd1Ez0lQCAHe1x\n",
              "zwImdd8qZ9pqS5hsL9oCD2ljYrZG+WM1lfO48201s3KanVpxxo1qNGGTaSBR6LoR94pzfm7IDQJ8\n",
              "1/yzopumNNAaW42W6jgDKKNyqkEAPqtPQxlgAqTcjf/1ig5SA6Q3F3fP8XjRJyNwgOTAlGyJZOL6\n",
              "KqI5eu+/9TOCCcg3cjXMv2gPC/RwD0wtLGZEHOym8gIVE+Aq1ongVJcuJa4bm48pirxO2n+nDTfJ\n",
              "9RW8EO7DBIJqd5FnAWuGYKZrLuF5k+ZYiYJm8YSiRT+ZVItFpF/XFotg9hMbyY0S4vLzqkRu2Yvo\n",
              "n2IjfI1wxowIsDa7Fg7j3lGtWilr8r2hgu2WY1ttGahN7uGsR8lsYfXnZ6A+/TvCTezhxs97NksY\n",
              "2j4prPvR/e6CSsOVVdaLp6/06s3X8uFkq07IEMR7gLrIe+/hb5+8Ey24+48SU8jZo0dnaldBWAdG\n",
              "Ob941W0zxxRhj9PWu3KKTLCQCuBEgBR88vqLn7R9NgxkOY44ex3wDjKcQrLak2/T2r8uNpSINyY0\n",
              "gHx6/2+GLN1eWrh767dihW6LvyfBn1fpxcxz5i7xviGdBK4k1sU+vF1QijZXzA2iUwGJZllEzT+A\n",
              "nZIGVmdExkLxGjXd8r5IDYpd7r7FlVd+uJdtYsNhAFM02QrZBLlvtOIRs7RJKkrLB5dmlDVgmJCd\n",
              "ij3HhxhWNZcujhLa2AAAAMlBnkJFFSwv/wAAAwAzpMYAIb4GDvDpTlqdl69ZVgp3SSLzPUDVTPyf\n",
              "ETOWGmG7KYMKWPNnTbAluiEKLytejXphMyIyarNEqp0KPYm4HEC/n6shAZ3hAmow0RHQUeIfiVHg\n",
              "DrgRwEUdIAVgDTRahInqzA3+d/zMnUMMGiw932DJSWNTuEpaznfqrITzWZnO7ToyTtdKD80ul7Ad\n",
              "lrERL0JR9ybU/ijAXDzQ2bCFgW/aZss4op8+1MmmsigQyQWEhToFTwIW5+AAAb0AAADIAZ5hdEK/\n",
              "AAADAEUePD6dzABD86tSdki6ew/jTvc2LRghQZ1Jm8pqUskFnckEGrp9Tdl7/Blpt5y1JDaIgFJa\n",
              "O4IZosxVmuOK03A4/B3rFa8ohQOASrD/GQLKNWUOmeppBiE724A2uUgMsKd48+aaguHHicA3vDpA\n",
              "e5atqLEx0cc35e+4jWYcA56Zpjiya0mJOETS46FFefk6sRgh49GfHSWHWEXXSbFkgwo0tWhbskjB\n",
              "dEr9Pn64Ne5cPzCkD80MgxTMAAADArYAAACqAZ5jakK/AAADAESJF0sAEQecDO9D9qdHwNjGu0Z0\n",
              "I8MsKZQoCAH6aiYzgwZ88ShG+YakpUDLdWpi6YV5VeGlALMItPcBmwRUP3d4kyVe/RCKnTlzfekZ\n",
              "QFVvCles88U2GSgXo9VI7Z2h27OuGB3i7BGWY2hCJFKq5aV9jm6HdQCtwSJDA5MMHL3wk8iz9Ujz\n",
              "mAh+2DLIztEQx8HBFch508PDEjPqAAADAS8AAAG6QZpoSahBbJlMCHf//qmWAAADACuCdOUAGrpq\n",
              "HFJ+bLVdBMEYH8InEzXXuwjRxH6mmYva2aLXUAaaZKeyoNvBg24NzScH+c6Z8M6Ilp73Nx6/axXn\n",
              "p+yo+kxFC5dx4yCth0nbeBA5XWYF+nBZeUPCgOCdcPRF3wHgERp1ffNx7JJemgKym5q0l0Gtsyt+\n",
              "tS9sk4G3dy6UF3mJudJzKomrVhXYttPzJeoaLC0U1S+pAAKN3IAXcXVhXVTNi6wtcQpj7Swfr2Uy\n",
              "2wcRZvuBqyluyM65wgsCHzT2T89if1Yn/xxwQRhj0RczSfd7yfWJl3QlGtCaAiEPkXPR6cZjcTNh\n",
              "izPqCWPGYnfdLl0+dSze0gHqiycBykZG/Y9JexnfeXnrIzkmYIM3y/dMAz/Z69Ru6l+rDzAtqTLd\n",
              "Oou5t6IX5vT9wXXBQVHnuG7NJhfTwOzpR+/zC6WxVKB3k2uAXSPFwBj/XAXoGXb2GGz/9fYbGSPU\n",
              "i5gEmyAJSWEMDpihDoxLuYn5c6IBjZuWJoomeFJun2N00YURM4p3nnouP2YMecDOvnq3M7Um4Kj2\n",
              "4poJkfePOjkTX/k4jOzrgQAAAP1BnoZFFSwv/wAAAwAzQ5poi7AB8IdLAnqO2rFnBS/CVNR728Fo\n",
              "Z/ufu2bsqewP10JB9dcK7ixn6BfvrO7IolfiPbrhs+XDo43FbZAJHtACRMiOSEV7jD0jr6vFnZoF\n",
              "Dr5iHdNW1FLzB12Ptjm4rQVe9CrjAGYhWgUKCL/NZrIia3IAr3rvEJpJ0FJqY19vBLvwHb0n7nku\n",
              "1+AXiffPRHqgSGIIjdETrYEWcwIL9Xb1Tz+fWkmg3M6fRncGQbdNwb2a/Px6lRaAGc2e/V/xTqin\n",
              "3YinTit7/yV6rhH8R7pDLM87b/EHH+ePuUtf9z8nroW9xq9TxntNdYiAAA45AAAAtQGepXRCvwAA\n",
              "AwBFAlrFgAgaZs6IWsRCRllzo9LQemyG7+lhhPJ0cSOy8m9ukcNSypWtvoR/fVxIaQ7/Femb5lIC\n",
              "B+xVQod4fRlTRu585HAwKAGPDB/rI3Sy0gs4MVCYJyKug0UFUD+T/tYHEwh6XAzMBvKJUzYjkoTQ\n",
              "EDgIC/fKnDV23CMRZZOfD3jGOARjSiEOIr8tFrtmvxUJBhMjfnoQAKFCzQOvrgvehojZzCxn6AAA\n",
              "N6EAAADiAZ6nakK/AAADAEWeIgBB1PRDXcAM8qrZoISObcBKF2wcGzGOMwuESrofbwS01+59FDZk\n",
              "Zbq+Z5g2iVtnqv1wrEWllbFgDl0Wkj3JaFdTIbVs5nvCrEFJ/E4RihzxOSmhWxGLJDDwd2UKE4+t\n",
              "6KymXyNlRW3bkFsmgV53j3+KEAq6zvnZxj+jThB1CXJrdCnH0mvF//LQB/tBtuD/liLnJFiFotZX\n",
              "7Gf/cUnIqmIuHtU//fPtE/bWUTlpn1mWkm+RhRA2rAES+5gjEnu4Asix/Gsm8pdB0DBMerJwMQAA\n",
              "AwBlQAAAAelBmqxJqEFsmUwId//+qZYAAAMAK4rmXoNMAD3E9oOKLsGYZxcSTOmzzf5x1Ng1rrdN\n",
              "D+uHvmgJhQ6FDVvGUK5uOuaUIJBIV4diWF6ROvB5dYyxsOGRTGc3DJca53ofOkFppzHHh3B/9NIo\n",
              "XvMv6tr2KlfpgyQQl7oXwDel/lg/f8ytThcXJN+TmiTNdUYgz7Yb1BkHvRQY0ow4OmPVJ4dRNf/m\n",
              "vQd+hM1X5nG8OfUO8p+eHymjCjMf/24heAUd16KSOyZVQXFhiWDRNj2x4rDOVonkLKt1vKgdl2yq\n",
              "o4cRUm6us+HTTYQtmBqbkQEpkFRNB7MubgLqpOGnthdxKlH2/V5Ya7QUYGzcHGyfQK/omCRFwGiG\n",
              "UJd2/Fa/AKBrsaMm0hAR1NvmnyPgITnFbp1lI85fWOHsnc54tlAOpbxBhZNgtcY8JV+4rNR/2epp\n",
              "Qn3f6Uh+tFB+KZl6eoz0N+O02waS7jgy1WxN5w3pi3ThA/u+HcRbfH1nUvWBrwiamm7BTNIHGbld\n",
              "/BsDfdaO0P60d+Ie4987301rP3c7HzkUdrpjXyuw945fkNaY3M88r/e/GzL0duKKe+//Jp6yPTm9\n",
              "AcvlJ20lbFzRX0FUYph//ShdXalmnGiSSqPjs0+R1NBIMRba0593ieAAAAEfQZ7KRRUsL/8AAAMA\n",
              "MuodIuAEH7buUp/PPfjzM65cc95ujAHpN9x6ExpdHpkfeIVmExBGWaLsptiHIZptdsg8Q+VsaBCs\n",
              "k6ewvRqfYWazMf7E581rwUP4pXdnGm2aHkvgQ1HAbNw9aEWaG/5ZYm7meGfAw1vjsULjuw5e7fTK\n",
              "TpzgDW6QYGAAnASxMxc9rZOfgNGZ3ITbffg9j+og6sexS3So7/yqXM6Xc7YyoF/a0BwoS1N3mIdJ\n",
              "ug67a28qbUN89PErlKgvanfTV0mtCF3jxrkdpbh5i9m4uz/ZBePyUrQSdgZjEvHSwyIBXb0oaG1S\n",
              "yXF5gRsT9lOgQ0rKnziumLup95/2RlG+LHcmmk/mSlGw+5pvoFDrJr92oYAADwkAAACnAZ7pdEK/\n",
              "AAADAEUY8ejWAAh4BY/aWjbqhVQFj9EbL3mlmlodpXC7ZYWPuwNzXPN8qmj22BDWsI48HSv5XR8E\n",
              "3qtmn50s7i/kxc6jduMPwz7vw0L9Mx0J1RaWWyZI5JUIBXgVxgDJ6qYCpS4fgdbGMmftKfnPzU0c\n",
              "zGwgWmREffHYKKILh20+rAf3Dd7wqj4Og/R2BZzGVn/f5K4OFfbQnUSTGIAABjQAAADIAZ7rakK/\n",
              "AAADAEWeIgBB+ex2/F6GtilVl9hNn4fbq/Zf/HRzM/RLXICwEaAb8Uc7zxmft1kzMx9t9fXWtHtC\n",
              "G/dlyCMHcWXW3wENY3P6687GcT89bWVweJ04xwOpi3HZbqjJlR4Szub2Rx1u5fmrRDo6Bvf5Y1UA\n",
              "EM0G7lh843aSSp0hsLa13dq8sEqYjGJP2wgnAd6PLsHDqMXJG7wAG9aIWibhQsfFSxOjh8nl+P6M\n",
              "PoJYJJCtfZq1YCOvHGrnn/QAAAMA9YAAAAI6QZrwSahBbJlMCHf//qmWAAADACuO0piYAGygI6Zd\n",
              "4fbFVSh2wO2/VH5y/IhgE094IOsXdv2KVEszvrhEoBDvlRLoxTmeciNp4GgPLLj7MBK00h74zsbM\n",
              "3I34mXacB9DCTnPfXq41hxdYGrEiriIbdCSmB6ya5cvzP1o5+a97XSqlssOzdymOcIFjSZCutiuV\n",
              "YfFX109SxuNv3LxNg9Pn5qrKhCUuLGzW5p+1oORm0DPV/IYcTSOLkzpWfhhr/t4CiufFHd5ECnzS\n",
              "Geq+4ZcRpr1+stzu7B3IRdy6g59TkAWrE7/JGYBTMhlTAI2b50cezhDjdXNc4buM1uLtFK+i+UW3\n",
              "Yj0LrSkHpyAKPRUq5iAy6/OgWks1hJUKhMYGj3j/c0bnAC4lyZZ3gRWR+5w8UBguchvKmLRBgzpW\n",
              "UXXNHeYRsq2SDBz99HMXDySQY63v0WIPcP4v2+IPuxgUzc6uSFo11KQM5++B4VKhTyIkR7BaMJyH\n",
              "0nSNJwIiqvMJ4uQEiXz7fqiZ4FuEi50FzoYn2blbxRwKkrfrTIZvaQ1TcUfKu0mss/9ukLHH+yGB\n",
              "/GaE9mW1KKbrMnfytlXV1NIgM4N8vSEdEmdCTzkEjmMXNiqd3aiAfZOFTMctrzuq/puQFXVG9K+N\n",
              "EqCOem03Edoy1+LQFVDNtpaSYo1gC5kqLm22zcLcFt5tE0to8nQ6AtB5SjhSB5X7l6Za1LiPIteX\n",
              "kqwhM354qDJqvBr0dW3YUo1XtQbOlir8aXDBAAAA70GfDkUVLC//AAADADOROpwAmgwizcHcMaMP\n",
              "2gYC5C3quqMvHq4o+Opap4WkZTUWVCIKmbKJdkS3GsOFulzPtzyf7nsFGOAQOJOSn9dSsOKeZGpm\n",
              "bepcEbYfnXVoLF6Qv6AxBRIHQRsWNLePpYLs4CTa7bQH5zTxqCJDi/8d7dy/xITRD3ruhLbkNIwo\n",
              "RBkYavGN2wnNFTAfXQl/lUhdc/tkYAi508OR+OrRTLfST2NlY7x2rhB6d2i4p/VMvRXZe054Svc7\n",
              "hIv+zAH/Z+QLpIGd8lQAPbf7bt9Q0AUiWKgQtC1u7yNj9mxWlOAAACbhAAAAygGfLXRCvwAAAwBE\n",
              "/NYxWwAQ1FZo1spJm/2Lk0zc6+BHX25AcCAsx5O1uLVOKd7oT0SzKmFGGBgTo9Xw+IZ7zxmWr5lJ\n",
              "1z4546Ck3p2EXAN4VxUPoW8LHJU6rGAFK9vDPQLbK7z5oPsYPzNNxhuPq+Gryb/O5iFBxLHDUf2H\n",
              "l9tkeBqmMlccNUA0y9k71dR/RQU12c+B7ya+nMTWy4iyyp87gOTUQIJ46C2JMAMxoiQN/oz1OSQs\n",
              "sDuHfG/mhZtMCRC1yWYAAAMAOmEAAAC3AZ8vakK/AAADAER8LSwAQ1YWpRHFak6sOPotV2+OBYWE\n",
              "b8HmLcwnDXn6NPrxv8cHRvdlZx5ACcdswXWgp/GNyq3beXGrG32fNmaqD2Pk1zB4PEU+CyruJ0aB\n",
              "9wvalH0kFMeHc0w4v/0y13U95DduXABNG5upVJPpv2OWh9jISduDLUSG5TnHTmXxkxN6kyIPV3X6\n",
              "POiUzw1KKjLIf3rfwOgVK6uGlcDGaXmxh4UY8fQV40GAAAIeAAAB+0GbNEmoQWyZTAh3//6plgAA\n",
              "AwArkCHIQANpQaKt9rtpWZLOov2j1R2dYod1BgUoPMzZ6DCQUZ6dGpdaRJ3HWb7rn9Pkte3lMbcr\n",
              "hb8z8X26a3KLxWVnS6b5I5/S87E3TprrDMkhXa6pNUyxd96JyGpgE/3taL+F3xHh72iOvWIRJvSr\n",
              "PWYG6U3a3EpcqyjDsrIhKuS6wCbz+2OJQ9cbtXlWVRA0DjtUpcyN617J7/Mr/bUy+U50biA3rSFl\n",
              "wwAm1W7B701kjLJJeVnlSZ5otzR1NWsNthtEitI+LS/XgU3FAUnbQ5fxv4W6IUqqD8/n+NzbQ5rl\n",
              "f74RYLOkbdmaB18ULdSivIgsSUmOQOz4XGjSAuf2cfGZ6X/WMpkw7Sg5f0n/s33QcyA+Lx/ISeDE\n",
              "I8+m12xR5XXxmS8ZxrFz98fuJExZ5yUfHVo+RPq97eV5okdoiEZF2pcwnPwNsJLFJqsEUyhAfV4M\n",
              "UjMwJIKps1mAcnWgKKWcW4CDREH46qsZK/HRD44I+cf3oatdJKhL/33KWBzNiWEcKSSYqP3005WH\n",
              "VeWAON+S7LhYbYcPsOEFixoMNLkR9QzHDNlwPzMklnXMuu88IhanQ/bQnyfkW81LqmSJkVSHF9hd\n",
              "bINssYX6bMvVzO0gFd+JOg6uHsTB9R/P58bUnHlqEhcZdgAAAKNBn1JFFSwv/wAAAwAzQ9eABWAC\n",
              "8efnpHxVPV47s1D49Cv85tv2/3vlv7fvKSXNBxyDI9dqn95uOMQMU8bwiPtvHRPx6DdCCLBQbxmj\n",
              "krOqhcQ9GO+N5qvXErTwD2my3XKs9NOeRAjgXMJb7qxlk0fkZfVXgZElnjxQM1LCFA76gqe5xlYm\n",
              "SVl2c94e4CuYOOqZOuPhE+UXqqEOkdNAAAADAFTBAAAAnwGfcXRCvwAAAwBFniIAQpm633i6sqVA\n",
              "ulNZ5TX/3IBBxoxzwbcNvhVP0JnUxmqm5xVTyc5xCze8KPDq5QPe7IgyJFtIzBTmo/R31nzuPtaW\n",
              "NT70kL6HmNVyLyYaDXXaQjxvmw2JIs1mJEicsH79IwWyZUFLRaXefD/WnRkAj3FSPpdpbE4t2sM9\n",
              "+CUNbhGroQ5KSuLh4Zo5JFSwAAAakAAAALYBn3NqQr8AAAMARG1z2iAA2fatvcmRTSK5Q1HHqD3f\n",
              "mZoRfn0BOdWji5wBr6uhe9EDxo2zdFlUzTRlBzShZ2xFODuOjvg3EoIQ6dUuPnlFXr3MZC0f1SFs\n",
              "OaRhTcWTryAzW0tR/gohIs6gqYMV5kx5Z6OJ05VkA8Y9EXWlMqI3JNtx9vn3G/dPEUKr7ii6szK5\n",
              "MLZ6aOF9UURtILAKWKx7G4QNabsGMU+XVW9Shh6LkdFIAADKgAAAArJBm3hJqEFsmUwId//+qZYA\n",
              "AAMAOkN84Ay26h8O8ASa1WwXyjP/RAxiqbE1H1mAJilpWabadxWQotfqttQgJ/1e9LailjWDZLvz\n",
              "Fc9Zz94PsHCu+SWo1xO/COG7Xhm40rKtlczosvm/ysrSefIB5pz9gFN5/zOF2qTlUpMOmzqiNROf\n",
              "2UBLxbVGEn5zP1A1LGwm+QUG3ktvTaJ7wF/IWSRMGbBjR8pOMi394g2xAYoNhshfD3tU9BUBvSaz\n",
              "5ZrBQ3ny5ch6ScSB601dRBU3DxYpHLrYtSQgwaN/t3jjnxDk1NMr6wx6ejbLOuDZzmrbknTdMzVC\n",
              "KUgF+bxgEyPPLI/tjwNU31Qmoytj3amb+CdZYzuxflLmVYsXufZA5zLY2qSq0u7alVZ1Zf2yK8WJ\n",
              "Q4j+VCHYIGoPa5JZQ4G9Qf05Ctm0v7ecGvlhghBVs2RpAskXzQJFYwDbotPy8fyrkvIOi9jfwj9D\n",
              "Tk4jPiIRnYz67OuKTvRgg268aAsxLvqPNor6dse040v5V28f2GUcEbG4s9CZ3LoQWVp48CcfwpG0\n",
              "Ia0+3vTo/RuVQdjCpc8t7wD2NSM4hLsC15Y8xC6+ZZA3MI2R8THEpKxw0hlqXoPS3xqXuBvTJE1r\n",
              "9BVx94WTQ8k5zXGkkizpGWCntA44dxURTM66smYvweqdE3b0JieSselTyP59N/qFbmxRnzIuYtc7\n",
              "JIm1gy3xKCw772mhyCPWaQADA278sjCzdQBCAD7C+N+2ALAWcIWSaZ4+Li7y+YjWiQIIcLlEnHo1\n",
              "yJQwOSyF74fDaGoMcjATMkCyHkxM2A9QnKJXyIMEFoIEgwJHAqnazbugeGhzpBrTqwRBqnifXDp5\n",
              "Mw/M1U4J7001OKo/43Q6wuhPfsuUxsqoHQcy4ch8lvj60tHopn2jdwUppES9IocAAADkQZ+WRRUs\n",
              "L/8AAAMARWczXsUcRrEHQg/xiyECgAhfncPybSJ2fTEdrVMwZzwaU+px38yNl7cb3Se78c1ZhG9b\n",
              "KQ7k2DEsj+5MPhrld85CVjHFrxkLpkbJMNYHLH9TyaoFoNtUYMdMmV8C0AgnBFOvGV3KOX3PfvSN\n",
              "DMhMueUlTqQ+SQyo5pzX/mfJXBuCix9Y0/i94dZCXGQJSb+kpEAVC5wAg4vClBse6qzk6KhDYNbT\n",
              "C1yVu9RzpAR4TYEde6tabZ+rAubVklg2umL0rp1BUUGKhALURmz4Yu/u01qrqAAAAwFtAAAA8wGf\n",
              "tXRCvwAAAwBff3WgqT1nKxlCSaLFOlIACF+RGYPpSrQueF5diBjkqQmqu9zpf2D+zxJwc0n2/HdP\n",
              "j5Eg7F0cGmCOO+B6w4piO0Mr8ZgDBf1qjhOHYE7QRz89DqEsLc8U/zWhHlAwyFOTpu22Tah58LNt\n",
              "TfTIT9N4//DjW6U4FaxH7BhBb528TvMzt+L8SNWF+O3DEx2kTENG9a7y+KS5uXZRLndJJVr4tQnC\n",
              "58FIhTV7N3YMjFUqOs75XCdoSf/irv2mPGA7jwr7lyENgA37cDiF6pwRrf6qJp0gMkiRkDVm4jyq\n",
              "+VUNCEGc0eqXgAADUwAAANsBn7dqQr8AAAMAQ0AmTEAITnyVNarAIJam6SAkfmiS8XfZBwpckQ/K\n",
              "uGzlUq+YpViWQhIIr5AI2/CTupXormfVz4qfbMRiWNjtywAuTfhFXxNSWBKL+rZiohoGZchy7n8/\n",
              "9AMUS7MzmrhMEe94S+gNd1k+fjqxkLKNkLxwUsVGE7VcCkzz3PT+ZW07uYjANGOByVffmuo0Yv2f\n",
              "LVuIwON/5rVi+88wfW1zhRM2L0E6sqztHrbFV8xxOLbvf5GnJ0aWraYdgGRknuJcwFKFiDpfI0Lz\n",
              "Pf6+cAAAOmEAAAKEQZu8SahBbJlMCHf//qmWAAADACugPRqwugArc0gG6umdYwEDLR/uurVAo9Bl\n",
              "xcwSBaLmUMuxfzBsh+++DGfEdMeDH54qd9NKnfoVPuYAfRBPoCXyLveAcBn5e2qaZXL/Pp+NxoUx\n",
              "nObQhVT93tORKbIZB5EXVmjBFSTQ27OgQeGZuqhBOvw+I/AOGPdAhyMBJSYVMgWjbMvvLun90UA0\n",
              "nXQ5CBsloUvV4SZlFEDfKBfyVnaEVC45jnapx+hFFP8Wp9+/NGbX0onGB/bM2d7WV7FFoF+n4pIp\n",
              "rv1KjmdBmjkA9nr/zin5xrWQhYaxZo9p0nq/hubT/SoJVb1kOZH9Qwynshh/s3Qw1ZwZsNhVC8Q3\n",
              "v3tKOd6YD7FM9b4Rjw1kXluSbx42HwSsLxwphf8D2XK1zS7CDFv3BvMrke8lEzwVmW9zv9o1IcRG\n",
              "ZcuILUtm/Su9VZKop1fjq2ItVAWiZIrQWDym7bIa++oAevN+c8iExRfp5mzoQb4LfhkYou51k87B\n",
              "WlrdKdNLOVBd8GIMVYL5SoEzD3J0xjAFYJV7kUtlpL+0qNYkRB5ECi1ojPBWVKY4x4RXbD9nDOu0\n",
              "K7HYHag6yPTImeI5Xv1FVmr/dAsjDSX2ZaWAzZzID8wFSBV5R9vq+orG0ev+wERAbIBOXKQi/zzN\n",
              "1UcdTrRZE1VGoI95WTZhfCFp5nGgoXFXnJ/VsIEzSEepK3wtExzmleGt69wgFFNETUqUZQZ3cBfe\n",
              "6cNx16gpBSmTnWLjbHEFYx+NmDltoKQ9DO8L1dkipEDO3KIn3AZJ+6VhlkAGA3Eze1EJ6hTm6GG4\n",
              "Y8C061l/5cf5OE5xii+ojRYjLK23WpcYw93yIoAAAADUQZ/aRRUsL/8AAAMAM2qzf+aEKi2ABDkF\n",
              "HBtwn5blUKjIheNPrZK/DYfEvscPUntOAmQOe8VE7UASOFWHp4L7LDrdNWmLd+7Rrl7TYy0yCtk/\n",
              "QJgoxutgCrz7Fx3wRRAjD2hvNuUJzEi90JAoPgHXqoUTU0wDhCHJrkUdGds775cBQ/d2udVX5XHV\n",
              "cPiz5qMXqlSxkSIpRF4QxCAh9cWifKUnteBlJ9ap6prIiHt3hgYMK26H3U/i0+kD72Rp9gnmJi3D\n",
              "nrwTmS9L78pYIPIAAAMA9YEAAADAAZ/5dEK/AAADAEV71I5keuACBrdUQgD6nJRgOsilLxh3p/Rw\n",
              "fde0+yYKlUeTTatl9wg/hm6T+dQAo6HVAj1jKDi9Yx/ZQV9LQIWpiC7E1j1vTNZ5FwMjudiE4EQ9\n",
              "KkWzw3du6EKVGLb2mTdde1McY+nfTZPxp36WcLOHKmg83M/sT3ITspx/3/mCyy9HXGcNQTxB2k3I\n",
              "f2j5julV4/yYZjun2Z7uOfRonizjE2RZkMEufXD7kYrLla+pOGAAAC7gAAAAqwGf+2pCvwAAAwBD\n",
              "Ny6l+IATDSYTbNot1NzFpJm6wCAHiecTCW3AFjYr4l5sZel79vq+H4w8FxMTOgKTA3DbzwnN3eu1\n",
              "3wbLxzL+vlHsgfYdP8d+IAOYWsymXLn5Zu0k4b2j41Y7aBzG6UoseNWV44BsF3yIL1z+mV0PFzXp\n",
              "U6ubOfEqSgb3IyS3Ntp7EHkSaZa10G7uvD2gvG+AVZcCh+ROPR32TCnKwAAMqQAAAeNBm/9JqEFs\n",
              "mUwId//+qZYAAAMAK5Z99TABacYymnXUh9J6lF6wz8tPuzXP0cDV4qdbOfDlMth31SB6HWWRxz8K\n",
              "84dS2WTrclRNBDQvRtbn29xYKGF90MFebNc5SHRZ9imnbk553gLzomulQbTCUZYXe75c6LFvjhJW\n",
              "jC5nfuBSTsGC/FnWvUKJLuecuVAFHRlwFPUWlbLSm02Mz7xRoQumPZN+P1iPeBiC3vhcFJm3sWLx\n",
              "cWfAKgWsRcsFVozJ3ssKbM9kL+ZZ5+QjEED3vtRHgaQU7VT1u+fjfX5iI3m11latxau1BgtgLihg\n",
              "7kGoNzyzGKW8voAAcwIIFDFjSU8BWBR0Hynx1vP1CgIBRqitk2NId9/RSZdLyKK79lmM/64FREVr\n",
              "focNwcTyUPoQ23bRUte1aoUb/9r/l8XZfa2wSKph3XsRCHbvqpdmMxPKpAQoELvM8fGVYfy660i+\n",
              "Nxjvp920iL7jSzzHNvScNOgAO5y/rjSKyyBzbvdUJ5/Meq3QjtXBdk549U9qVlTWExxPM1FnvI4E\n",
              "PZ+kbt0AlPTbLCZ8pVBDpXt78ewKeLBo/+/I1cA+gjWr9uQzSXJfZE/ZNdN3oWZvhGsjA4yj3Lzr\n",
              "CW8d+VI9mSGFmom4QYvtMAAAJuEAAACgQZ4dRRUsK/8AAAMARYMft6dIAEzvJWjMscaCTArSLig/\n",
              "tlscgwZyuRjLFSrXfrpTix+r8TQHlbNNIjNcY6JGx6tHQoGpqbr/eLEN7AW6d0wC1eqyR3JXHs1C\n",
              "+gGVcsSbWA5dn+DOlgHeg75HrjhInv7ZoZCa9C66OUvgJE/sZkrUI/FboncMtpg8NjL4qv8xWsTX\n",
              "ur6VGuc6KInyAAAQsAAAAJkBnj5qQr8AAAMARXW+xWwuIAEG79dzp+b6Ac1pwohpMOFnF0C1kuG+\n",
              "DiXSlm1gtq8z9H3xs5WmgRjI2lnKR89bTGL+L8WnGUncOlaCEJkxz2+yGPXQV06S8+VMTarg7YEV\n",
              "19ykgL0qfY9TpWufCqyV2/OSDBobM5bGXSRcVOqg6Gs9O1al6LDlBwx0FokvrzpKy8PJ1YAAD5gA\n",
              "AAFRQZojSahBbJlMCG///qeEAAADAFRDHcSfwAaACd70h+rrGDxTFMIWX9ho+113Q/suVUPg2AU6\n",
              "YzMMSvE/l2R7CRETHvqymm6R27ObSVX+MjgPTAUUcfPKugPZC1gVOpnaaKp77GS2O3KR/oXQ3Lv7\n",
              "Qgow09Ijfw5JiD6up7/vP0syVbTkyjzUNoIfNAI8gYjX0pjQArjEFzzab9oFh6SjzHfDaatAR5mI\n",
              "gDr+nl1PMipxq0wBE2nxC8oqCfRtYuOteE/aKMuEZIR7UCrVR6hwDHAQx02w347muSwYiG1uBhHt\n",
              "zme5klXRXWte4wbIBLyKqvg3YLU2b1EoR9Of3pLStgcJHO1+Hql9gFmL6k7TgapiqLrbSFLkVLnI\n",
              "f6Uwym4E3bdnonrGgq2KRAFsevoUOYJi8hXDPzU5u5+THL31mKfbN9+DV1lo0IOgYggOwBZ/zwAA\n",
              "ALpBnkFFFSwv/wAAAwAyKLRNwAhOVI0q8lmt6JiBLvttNsN8k35ENJQtYM0W05JgbYpjlPSAFp6r\n",
              "Ks4PHVN4AbW5/bWBXqO3XBwi8P+OQeltQOjs2hxRYZVZtgp3mHDlyhsT9fM99CW1AkQmB/KgJL/8\n",
              "Hw74c4GrM5ySSbUatR+cpT9PiLYL8BV6R5vV/2i1XKWr+tYUV954oG/jRj1qE7t//9aQ6TgMoWbq\n",
              "Q6Xeuixlf1sEUAIlGAAApoAAAADDAZ5gdEK/AAADAENUBmEEAJl09QurzPRuEfqR7uNxjInx2EP9\n",
              "HC08vr6mX2loipsfJjNgywrHj7HY+J8zXLhB1FLyLxZeLSy/7AXSa/EVmE5mvffb4mhsS7svwYFS\n",
              "pgdrHOUnPL3xIR5cd+Gqsk4Stfm6UyaynMOO2ew3hpbNLmjlznJa8Nf//9Q5P+W65sXnejWz6oC5\n",
              "1GKTEnOG3LIctDCvC3xmGol5EbC4lszXBWkQIazmM0G0FNM6FOucCNigAAVNAAAA0AGeYmpCvwAA\n",
              "AwBC5rmKCeIAQLQZoP2X8TxGOHWWIAty4z+XPUxdzX6fE0hLJk+SVGs4G6sPB+6QWNPuXq+Zu6k4\n",
              "mfAiyUlR4jqD2XKaZ6SXvMBVAtrW0bUHvPOiDLx55vuFQf5SlwUm4z0BI07c9ItPlDByy2UGfK9o\n",
              "03aMD6J7DGa6OdCLAshOnFqyEkLSMi0iCgUAjfIMoUXv3Hd0TeF1ATB9G0o6Z0Y1vItmgfq/6Bj6\n",
              "bTEMwzfA87JGyGd8mo4xkRHOO6luIQGZdAAA3oAAAAGNQZpnSahBbJlMCG///qeEAAADAN37KieQ\n",
              "R++AD+jtACJszIuYB/hoEi48A1eTBaiWYuFg+dyKhc1vqy1o0ZATnGziT1Z4Uu7iBu1LQMRxWfjD\n",
              "qJO5b80khH8H6mo9Ez4d/rPnBwwTr7A9upCl1rJSwHjuh3Wnxhc3aFnEsHSfg2Brpd/02nItvza3\n",
              "X/bHGd3rMqWGyR10DvjYW6YUrvVm4vlCZATVuQQi5voKDuCnOKZm0ZqKa8rYS2SpPHdPqb6s9tNj\n",
              "idxwDgECYz8qEbrx44R2Ba1QegRKgl4l9GI9Crrq9jpsNG+3wsS3KeTjPO0pncJWQ15NvbXCZtyv\n",
              "5eH4k0VBitsFQp1545Xh+eqc8nDfZT527KPi9U9g9Wy/8WcHmFH+6j+3CZBfbLJ4wgqcaskvhewW\n",
              "eKZAnFJPIblso16o0FpiEaeZbinLJ8oP3ZoPpPP4GLSkd5Z27N6lA6mpqSNvfIQ6MBeQv1V+XBMx\n",
              "zBMXPj2djnCNGTk5g3KO7Y0vRFkRbLCwbLLrKgQBgQAAAN1BnoVFFSwv/wAAAwAzgZSvAAmeThTg\n",
              "ZL9v3lygYpzAOZDmYvoi20d7d1A7IEQtcY1MlxXav+NWN0nG3ZYDiufGvVKo3+CSbOztK1XETBEA\n",
              "o4RGzMPxX9xuEOQSOe2pX211rBvdim3PjBYS3EujD+hfcSZy/C2on4Yp/7t4Ct1XUSNLs1NQbPWs\n",
              "V3yW3SSW2uFRuhMYa3casRs1khanvMi7iuixR5CXHNpOeuSNaC/I2jV46QoEt3TNoEHaN8JvCGtP\n",
              "qzh/+POToQfRt7+u1/o8TJ20/Vl4lSU3/gABZQAAANgBnqR0Qr8AAAMARVzZ+8ADYvmk+RL85xA6\n",
              "DpoZSxJHupc4Zlo7mwut0A+/FPrxUIrJwASpzvhFnit3iG4Mz9/xFuqmIDwH9C0dHS7G8ooIK6Ue\n",
              "/a8Ctckp7hsWI9mhwRtIxTKMtcVYs6LvsIVw5rDAD2kfveORpR5Bn8i5Ce3tb/+1kE/RNGJt1VpL\n",
              "3xR2vw36njWfguyui8pHMiXjiISB7T5+e6DI4W8KwCtM4tac4gMiTiXrr0ioI8CwHWi+7yognaIT\n",
              "S/MTCsZ4JfRA9JXvLAuRMwAAFbEAAACtAZ6makK/AAADAEL+xXRbQAGwj19GG9yOtHtttMG5wiJb\n",
              "Ci19bSEi4I7OMjy4rHxNIghG0/fh/nHmbKsAQ0vBeCDtR0sXzC8M7M21JRZtIQkG8VVX/qs246In\n",
              "K3/6H4LNp19r+8GMK/XSUYgYB3pKXrTwtS3F2rCW0bZN4SZtaZV5h2KcxBJRqhfufFYqnQY7dgV0\n",
              "CBWg5XzTGNfodSs13o8Sh7z23BYAAAMAfMEAAAG1QZqrSahBbJlMCGf//p4QAAADAVHfflb0010w\n",
              "AjoeEo2vgu+KkrCeDvclfThrUehPVTCkgF1RqYjZAjEfUSCR24RVAqIZXlsoDTT4scbPuM25wuJs\n",
              "Zzln63RA3fhMumAt5mhey7OKVgg5tNDgvfkZrfgKXs5uNoia7ZowtQVO6aBNe+m17BvTaH3sdQ7y\n",
              "ZHD+bP4FiLO2WNJdM6ottgmmCnH4vVczjfarCWt+cAXj+aQApRUNQcc9pfooIxRXMAfn0twknaM+\n",
              "Xi6hjb8VBlsea6AAnADATaAdXHzXNRTk4YpeYq6kT8/olwJoOEgAySvPD9IrHxKDf4JfmIFRTGsk\n",
              "iKGwBY32o2fZpYlN1FE1kGFTbViOtU5nLqDz7k86aTKRjal61PHMhSL/Tqgw+5bCx2CO8VdJhRvt\n",
              "/eGTI+dZ3YUiHqbCZImMgKR6KL4RoPYwEj83x4xffcdkob/uGZB5UTedTfdoCZs19f8BGCbtsHOE\n",
              "rZBbO8SvYCWo1bbc1dH6xhDJMc50jAR2YZ/fPJ0XhCvy7Ku1GxaXCPSds4Rbc148goT3XXVeXqOV\n",
              "lEnGOxRaAAADAz4AAADEQZ7JRRUsL/8AAAMAM4Fz/0nEADZCXbyGjrjwal9DCa4iz+Z5BqEhSBoF\n",
              "KSpXm2dJtIQpJjjbbj+ndM1FuScrcIqPZqU5z+yR5zAjzn/3tSBqjSb734YTiCK6OpA1WbQaI1Ns\n",
              "JkmMO8SQNSayH8AF1b7WxGOgHTG29llwPBK4hiWsMJq2SZXDQRjq6c5Wu/0CXznpFD4Fm8R9SPf9\n",
              "QyRRywfLtt7Nc2b2iqxv7RqId/VBNL5vx4NqUjiFU+G2rmlaQAAF7AAAALUBnuh0Qr8AAAMARXvZ\n",
              "ji4AIfnZ0iYvJvJqlq2WfefscJXbDcCcbUi3IkXathYN+kOQavqs+Igs5M1qrxmMefeC7lGzLaVS\n",
              "oqdKNzupY41aqwdmSR04eJcCSeE9PGB/F2WuYtDNQY5SkXZHNrcfhjRf/VQG7OK21gmdehq+TmSD\n",
              "j72kndTf6/xwmKBbqXnOvTYkUAYl8ouBy/kwplQ7pOfTL9xeFqscl301+EMowtF+wSgAAIeBAAAA\n",
              "sgGe6mpCvwAAAwBDMr54QAgHf9YX/ExH9DkiPWoNseOitEa3eIOQrvinTJ3xN8k0RE51Og14MK2t\n",
              "ITbGGaNhn5NWVDnVEhYuR9B8PMqxCyzVwm1PF3DIlOmn9k+wLRgJbJvXAakQbdcg05gZzJMzAG87\n",
              "bg7alMQAXsk+GmjGJBwQuAp5uziq9E0zpVrEjfS/dhaXpIUu6nDC/Xv0m8IpH6VBWUnG1Ej09OUm\n",
              "lK6VRAAABDwAAADvQZrtSahBbJlMFEwr//44QAAABPrPfbEAITLPq2n/3ctCO4ry7SLSTnh9ChyS\n",
              "RToI0Gcf8WxjKobrd+zEO/X2bO5ZawS8AdPUUjaGILBlUYSQleUXhMawSYNvuJc7FmtGVs50uhsQ\n",
              "kwUbsYF/ExwIFSIGFhv5BO9zMFvHsRMjKoRwMFpachPA3upWbyOS1NXdAuIA9hIRR0CiBcQLWUq9\n",
              "YAQBiKE6qjNijUMyBu2Ql7Qy0HT7sYLyoImT8l949pvGLtj5XDBO2W3uJhcaMDSGzD0tfVU8jUmj\n",
              "0sD6IjNzYuAcuwYRRAlZqSwAAAMAQsAAAACrAZ8MakK/AAADAEM/2CEQAhIhjIWa4LqDMSvxIEg6\n",
              "+X1HMCCGWtyftVE4QW01gGYC9RRKb+jjg8hzwbjFpJMbt0BBkw7z7xNyND8/f6bWBW5ko1i0T11y\n",
              "f1/qMnXTKRS714EyiufqK4rYE1s8v3G0Upki/qytz5jNzIuDxuE4e9uYNwI8K2yvYxCOOmROV+4+\n",
              "dNPCOK8WE991jXQJEOFAbNRiZPH1AhAAADAhAAAG1G1vb3YAAABsbXZoZAAAAAAAAAAAAAAAAAAA\n",
              "A+gAAAwwAAEAAAEAAAAAAAAAAAAAAAABAAAAAAAAAAAAAAAAAAAAAQAAAAAAAAAAAAAAAAAAQAAA\n",
              "AAAAAAAAAAAAAAAAAAAAAAAAAAAAAAAAAAAAAAIAAAX+dHJhawAAAFx0a2hkAAAAAwAAAAAAAAAA\n",
              "AAAAAQAAAAAAAAwwAAAAAAAAAAAAAAAAAAAAAAABAAAAAAAAAAAAAAAAAAAAAQAAAAAAAAAAAAAA\n",
              "AAAAQAAAAAJYAAACWAAAAAAAJGVkdHMAAAAcZWxzdAAAAAAAAAABAAAMMAAABAAAAQAAAAAFdm1k\n",
              "aWEAAAAgbWRoZAAAAAAAAAAAAAAAAAAAMgAAAJwAVcQAAAAAAC1oZGxyAAAAAAAAAAB2aWRlAAAA\n",
              "AAAAAAAAAAAAVmlkZW9IYW5kbGVyAAAABSFtaW5mAAAAFHZtaGQAAAABAAAAAAAAAAAAAAAkZGlu\n",
              "ZgAAABxkcmVmAAAAAAAAAAEAAAAMdXJsIAAAAAEAAAThc3RibAAAALlzdHNkAAAAAAAAAAEAAACp\n",
              "YXZjMQAAAAAAAAABAAAAAAAAAAAAAAAAAAAAAAJYAlgASAAAAEgAAAAAAAAAAQAAAAAAAAAAAAAA\n",
              "AAAAAAAAAAAAAAAAAAAAAAAAAAAAABj//wAAADdhdmNDAWQAHv/hABpnZAAerNlAmBN5ZYQAAAMA\n",
              "BAAAAwDIPFi2WAEABmjr48siwP34+AAAAAAcdXVpZGtoQPJfJE/FujmlG88DI/MAAAAAAAAAGHN0\n",
              "dHMAAAAAAAAAAQAAAE4AAAIAAAAAFHN0c3MAAAAAAAAAAQAAAAEAAAJ4Y3R0cwAAAAAAAABNAAAA\n",
              "AQAABAAAAAABAAAKAAAAAAEAAAQAAAAAAQAAAAAAAAABAAACAAAAAAEAAAoAAAAAAQAABAAAAAAB\n",
              "AAAAAAAAAAEAAAIAAAAAAQAACgAAAAABAAAEAAAAAAEAAAAAAAAAAQAAAgAAAAABAAAKAAAAAAEA\n",
              "AAQAAAAAAQAAAAAAAAABAAACAAAAAAEAAAoAAAAAAQAABAAAAAABAAAAAAAAAAEAAAIAAAAAAQAA\n",
              "CgAAAAABAAAEAAAAAAEAAAAAAAAAAQAAAgAAAAABAAAKAAAAAAEAAAQAAAAAAQAAAAAAAAABAAAC\n",
              "AAAAAAEAAAoAAAAAAQAABAAAAAABAAAAAAAAAAEAAAIAAAAAAQAACgAAAAABAAAEAAAAAAEAAAAA\n",
              "AAAAAQAAAgAAAAABAAAKAAAAAAEAAAQAAAAAAQAAAAAAAAABAAACAAAAAAEAAAoAAAAAAQAABAAA\n",
              "AAABAAAAAAAAAAEAAAIAAAAAAQAACgAAAAABAAAEAAAAAAEAAAAAAAAAAQAAAgAAAAABAAAKAAAA\n",
              "AAEAAAQAAAAAAQAAAAAAAAABAAACAAAAAAEAAAoAAAAAAQAABAAAAAABAAAAAAAAAAEAAAIAAAAA\n",
              "AQAACgAAAAABAAAEAAAAAAEAAAAAAAAAAQAAAgAAAAABAAAIAAAAAAIAAAIAAAAAAQAACgAAAAAB\n",
              "AAAEAAAAAAEAAAAAAAAAAQAAAgAAAAABAAAKAAAAAAEAAAQAAAAAAQAAAAAAAAABAAACAAAAAAEA\n",
              "AAoAAAAAAQAABAAAAAABAAAAAAAAAAEAAAIAAAAAAQAABgAAAAABAAACAAAAABxzdHNjAAAAAAAA\n",
              "AAEAAAABAAAATgAAAAEAAAFMc3RzegAAAAAAAAAAAAAATgAAEqwAAANLAAABeQAAAOEAAADlAAAC\n",
              "3QAAANkAAADBAAAA3QAAAgoAAAD2AAAAmQAAAJcAAAHqAAAA/gAAALQAAAC2AAAB3QAAAMAAAAC2\n",
              "AAAAjwAAAd4AAADcAAAA6AAAAL8AAAILAAAA1AAAALkAAACxAAACtgAAAN8AAAC/AAAAvgAAAm0A\n",
              "AADNAAAAzAAAAK4AAAG+AAABAQAAALkAAADmAAAB7QAAASMAAACrAAAAzAAAAj4AAADzAAAAzgAA\n",
              "ALsAAAH/AAAApwAAAKMAAAC6AAACtgAAAOgAAAD3AAAA3wAAAogAAADYAAAAxAAAAK8AAAHnAAAA\n",
              "pAAAAJ0AAAFVAAAAvgAAAMcAAADUAAABkQAAAOEAAADcAAAAsQAAAbkAAADIAAAAuQAAALYAAADz\n",
              "AAAArwAAABRzdGNvAAAAAAAAAAEAAAAwAAAAYnVkdGEAAABabWV0YQAAAAAAAAAhaGRscgAAAAAA\n",
              "AAAAbWRpcmFwcGwAAAAAAAAAAAAAAAAtaWxzdAAAACWpdG9vAAAAHWRhdGEAAAABAAAAAExhdmY1\n",
              "OC43Ni4xMDA=\n",
              "\">\n",
              "  Your browser does not support the video tag.\n",
              "</video>"
            ]
          },
          "metadata": {},
          "execution_count": 74
        },
        {
          "output_type": "display_data",
          "data": {
            "text/plain": [
              "<Figure size 600x600 with 1 Axes>"
            ],
            "image/png": "[encoded data removed]"
          },
          "metadata": {}
        }
      ],
      "source": [
        "# create a figure and axes\n",
        "fig = plt.figure(figsize=(6,6))\n",
        "\n",
        "# Create arrays with the latitude and longitude coordinates for plotting using pcolor\n",
        "from dedalus.extras import plot_tools\n",
        "(X, Y) = plot_tools.quad_mesh(np.squeeze(x), np.squeeze(y))\n",
        "\n",
        "# Define an animation function\n",
        "def drawframe(n):\n",
        "    plt.clf()\n",
        "    concentration = plt.pcolor(X, Y, c_save[n,:,:].T)\n",
        "    # Specify the axis limits and labels\n",
        "    plt.axis('square')\n",
        "    plt.xlim(0, L)\n",
        "    plt.ylim(0, w)\n",
        "    plt.xlabel('x (m)')\n",
        "    plt.ylabel('y (m)')\n",
        "    plt.title('concentration, time = {0:.2f} seconds'.format(t_save[n]))\n",
        "    return (concentration,)\n",
        "\n",
        "from matplotlib import animation\n",
        "# blit=True re-draws only the parts that have changed.\n",
        "anim = animation.FuncAnimation(fig, drawframe, frames=len(t_save), interval=40, blit=True)\n",
        "\n",
        "from IPython.display import HTML\n",
        "HTML(anim.to_html5_video())"
      ]
    },
    {
      "cell_type": "markdown",
      "metadata": {
        "id": "5tYMJc6t0zyD"
      },
      "source": [
        "## 2.3 Student investigation\n",
        "<a id='section2pt3'></a>\n",
        "In the boxes below, plot the pollution concentration at a few points as a function of time. Then vary the maximum flow speed and the diffusivity and explore how the pollution levels depend on these parameters. Using dimensional analysis, estimate the time needed for the pollution to reach the opposite side of the river. How far downstream of the source do you expect this to happen (assuming that the domain in the x-direction is infinite)."
      ]
    },
    {
      "cell_type": "markdown",
      "metadata": {
        "id": "SxZGrXdC0zyD"
      },
      "source": [
        "INSERT PLOTS AND COMMENTS HERE"
      ]
    },
    {
      "cell_type": "code",
      "source": [
        "# c_save.shape # = (78, 256, 32)\n",
        "# Nx = 256 # number of gridoints in x and the sacle is from 0 to L=50\n",
        "# Ny = 32 # number of gridpoints in y and the scale is from 0 to w=10\n",
        "\n",
        "# source centre: (0,10)\n",
        "\n",
        "# points: (7.5, 1) downstream and just above source\n",
        "#         (10, 5) just above source\n",
        "#         (15, 1) upstream and just above source\n",
        "\n",
        "x_points = [7.5, 10, 15]\n",
        "y_points = [1, 5, 1]\n",
        "\n",
        "labels = [\"just upstream of source (7.5m,1m)\", \"just above source (10m, 5m)\", \"downstream from source (15m,1m)\"]\n",
        "\n",
        "\n",
        "\n",
        "for i in range(0,len(x_points)):\n",
        "  xidx = round(x_points[i] / (50/256))\n",
        "  yidx = round(y_points[i] / (10/32))\n",
        "  plt.plot(t_save, c_save[:, xidx, yidx], label = labels[i])\n",
        "plt.legend()\n",
        "plt.xlabel(\"Time\")\n",
        "plt.ylabel(\"Concentration\")"
      ],
      "metadata": {
        "colab": {
          "base_uri": "https://localhost:8080/",
          "height": 467
        },
        "id": "Ik2PLesOMao_",
        "outputId": "d4c61b1c-288b-44e0-c621-6cea2a50848c"
      },
      "execution_count": 75,
      "outputs": [
        {
          "output_type": "execute_result",
          "data": {
            "text/plain": [
              "Text(0, 0.5, 'Concentration')"
            ]
          },
          "metadata": {},
          "execution_count": 75
        },
        {
          "output_type": "display_data",
          "data": {
            "text/plain": [
              "<Figure size 640x480 with 1 Axes>"
            ],
            "image/png": "[encoded data removed]"
          },
          "metadata": {}
        }
      ]
    },
    {
      "cell_type": "markdown",
      "source": [
        "The point just upstream of the source was only affected by diffusion from the source and not advection. There was a gradual increase over time.\n",
        "\n",
        "The point just above (in the positive y-direction) the source experienced an inital increase in concentration from approximately 26 to 40 seconds likely due to diffusion then the concnetration remain close to constant till just before 60 seconds whilst the rate of change from diffusion moving pollutant into the point waws balanced with advection moving pollutant away from the point before the concentration begain increasing again due to diffusion.\n",
        "\n",
        "The point upstream of the source experienced a rapid increase in concentration due to advection before reaching a temporary balance (steady state) between approx 12 seconds till 35 seconds. After this point a gradual increase is visible."
      ],
      "metadata": {
        "id": "C7fmoXvTMa2j"
      }
    },
    {
      "cell_type": "markdown",
      "source": [],
      "metadata": {
        "id": "_S2lUOa4WOm4"
      }
    },
    {
      "cell_type": "code",
      "source": [
        "x_points = [15, 20, 25, 30, 35, 40, 45, 50]\n",
        "y_shore = 10\n",
        "labels = [\"(15,10)\", \"(20, 10)\", \"25\", \"30\", \"35\", \"40\", \"45\", \"50\"]\n",
        "\n",
        "for i in range(0,len(x_points)):\n",
        "  xidx = round(x_points[i] / (50/256))-1\n",
        "  yidx = 32-1\n",
        "  plt.plot(t_save, c_save[:, xidx, yidx], label = labels[i])\n",
        "plt.legend()\n",
        "plt.xlabel(\"Time\")\n",
        "plt.ylabel(\"Concentration\")\n",
        "\n"
      ],
      "metadata": {
        "id": "wzUrxIzkaRbw",
        "outputId": "ab82e95c-282d-477e-b3c7-ea5550f93213",
        "colab": {
          "base_uri": "https://localhost:8080/",
          "height": 467
        }
      },
      "execution_count": 76,
      "outputs": [
        {
          "output_type": "execute_result",
          "data": {
            "text/plain": [
              "Text(0, 0.5, 'Concentration')"
            ]
          },
          "metadata": {},
          "execution_count": 76
        },
        {
          "output_type": "display_data",
          "data": {
            "text/plain": [
              "<Figure size 640x480 with 1 Axes>"
            ],
            "image/png": "[encoded data removed]"
          },
          "metadata": {}
        }
      ]
    },
    {
      "cell_type": "markdown",
      "metadata": {
        "id": "VE8HWpRf0zyE"
      },
      "source": [
        "## 3. Optional further investigations\n",
        "\n",
        "* In the river pollution example, you might notice that the concentration field is mixed more effectively in the x-direction than in the y-direction. The combination of differential advection by the currents and cross-stream diffusion is very effective at mixing the plume in the x-direction. This is an example of Taylor dispersion (Taylor, 1953). Construct numerical experiments to quantify Taylor dispersion and its dependence on the current shear and the diffusivity. You could also separate the diffusivity into parts in the x and y directions with different coefficients.  If you set the x-component of the diffusivity to zero, then any spreading of the concentration in the x-direction should be due to Taylor dispersion.\n",
        "\n",
        "* Try making the river speed a function of time. The easiest way to do this is to add a new equation so that Dedalus solves for the velocity in addition to the concentration field. For example, you could make the river speed decrease exponentially in time, or it could be sinusoidal in time.\n",
        "\n",
        "* In the ocean mixing example, if $\\kappa$ is a function of $x$ and $z$, what would this imply about the velocity field? You could even try writing a Dedalus script to solve the 2D advection/diffusion equation with a prescribed spatially-dependent $\\kappa(x,z)$.\n"
      ]
    },
    {
      "cell_type": "markdown",
      "metadata": {
        "id": "SQt3ZGd00zyE"
      },
      "source": [
        "### References\n",
        "\n",
        "Munk, W.H., 1966. Abyssal recipes. In Deep sea research and oceanographic abstracts (Vol. 13, No. 4, pp. 707-730). Elsevier.\n",
        "\n",
        "Ferrari, R., Mashayek, A., McDougall, T.J., Nikurashin, M. and Campin, J.M., 2016. Turning ocean mixing upside down. Journal of Physical Oceanography, 46(7), pp.2239-2261.\n",
        "\n",
        "Taylor, G.I., 1953. Dispersion of soluble matter in solvent flowing slowly through a tube. Proceedings of the Royal Society of London. Series A. Mathematical and Physical Sciences, 219(1137), pp.186-203."
      ]
    }
  ],
  "metadata": {
    "kernelspec": {
      "display_name": "dedalus3",
      "language": "python",
      "name": "python3"
    },
    "language_info": {
      "codemirror_mode": {
        "name": "ipython",
        "version": 3
      },
      "file_extension": ".py",
      "mimetype": "text/x-python",
      "name": "python",
      "nbconvert_exporter": "python",
      "pygments_lexer": "ipython3",
      "version": "3.12.2"
    },
    "colab": {
      "provenance": [],
      "include_colab_link": true
    }
  },
  "nbformat": 4,
  "nbformat_minor": 0
}